{
  "nbformat": 4,
  "nbformat_minor": 0,
  "metadata": {
    "kernelspec": {
      "display_name": "Python 3",
      "language": "python",
      "name": "python3"
    },
    "language_info": {
      "codemirror_mode": {
        "name": "ipython",
        "version": 3
      },
      "file_extension": ".py",
      "mimetype": "text/x-python",
      "name": "python",
      "nbconvert_exporter": "python",
      "pygments_lexer": "ipython3",
      "version": "3.6.6"
    },
    "colab": {
      "name": "Hotel Booking Analysis - Final File.ipynb",
      "provenance": [],
      "collapsed_sections": [],
      "include_colab_link": true
    }
  },
  "cells": [
    {
      "cell_type": "markdown",
      "metadata": {
        "id": "view-in-github",
        "colab_type": "text"
      },
      "source": [
        "<a href=\"https://colab.research.google.com/github/V-dit/hotel-booking-analysis/blob/main/Hotel_Booking_Analysis_Final_File.ipynb\" target=\"_parent\"><img src=\"https://colab.research.google.com/assets/colab-badge.svg\" alt=\"Open In Colab\"/></a>"
      ]
    },
    {
      "cell_type": "markdown",
      "metadata": {
        "id": "Y06xIdG26kRF"
      },
      "source": [
        "## <b> Have you ever wondered when the best time of year to book a hotel room is? Or the optimal length of stay in order to get the best daily rate? What if you wanted to predict whether or not a hotel was likely to receive a disproportionately high number of special requests? This hotel booking dataset can help you explore those questions!\n",
        "\n",
        "## <b>This data set contains booking information for a city hotel and a resort hotel, and includes information such as when the booking was made, length of stay, the number of adults, children, and/or babies, and the number of available parking spaces, among other things. All personally identifying information has been removed from the data. </b>\n",
        "\n",
        "## <b> Explore and analyze the data to discover important factors that govern the bookings. </b>"
      ]
    },
    {
      "cell_type": "code",
      "source": [
        "# Importing important libraries\n",
        "import ast\n",
        "import pandas as pd\n",
        "import seaborn as sns\n",
        "import matplotlib.pyplot as plt"
      ],
      "metadata": {
        "id": "yQnQLCaDTeJK"
      },
      "execution_count": 1,
      "outputs": []
    },
    {
      "cell_type": "code",
      "source": [
        "# Link the drive to load the data\n",
        "from google.colab import drive\n",
        "drive.mount('/content/drive')"
      ],
      "metadata": {
        "colab": {
          "base_uri": "https://localhost:8080/"
        },
        "id": "BP6rABxSThDC",
        "outputId": "4e0377df-ce12-4cb2-d019-e6a952feee62"
      },
      "execution_count": 2,
      "outputs": [
        {
          "output_type": "stream",
          "name": "stdout",
          "text": [
            "Mounted at /content/drive\n"
          ]
        }
      ]
    },
    {
      "cell_type": "code",
      "metadata": {
        "id": "dByMsuzT8Tnw"
      },
      "source": [
        "# Load the csv as pandas dataframe\n",
        "filepath = '/content/drive/MyDrive/Colab Notebooks/EDA Capstone Project/Hotel Booking/Hotel Bookings.csv'\n",
        "hotel_df = pd.read_csv(filepath)"
      ],
      "execution_count": 3,
      "outputs": []
    },
    {
      "cell_type": "code",
      "source": [
        "# Viewing the data\n",
        "hotel_df.head(3)"
      ],
      "metadata": {
        "colab": {
          "base_uri": "https://localhost:8080/",
          "height": 288
        },
        "id": "r1eLG2N3Uaa3",
        "outputId": "4cd83d71-7cac-4f68-cdd9-62305827e3b9"
      },
      "execution_count": 4,
      "outputs": [
        {
          "output_type": "execute_result",
          "data": {
            "text/plain": [
              "          hotel  is_canceled  lead_time  arrival_date_year arrival_date_month  \\\n",
              "0  Resort Hotel            0        342               2015               July   \n",
              "1  Resort Hotel            0        737               2015               July   \n",
              "2  Resort Hotel            0          7               2015               July   \n",
              "\n",
              "   arrival_date_week_number  arrival_date_day_of_month  \\\n",
              "0                        27                          1   \n",
              "1                        27                          1   \n",
              "2                        27                          1   \n",
              "\n",
              "   stays_in_weekend_nights  stays_in_week_nights  adults  ...  deposit_type  \\\n",
              "0                        0                     0       2  ...    No Deposit   \n",
              "1                        0                     0       2  ...    No Deposit   \n",
              "2                        0                     1       1  ...    No Deposit   \n",
              "\n",
              "   agent company days_in_waiting_list customer_type   adr  \\\n",
              "0    NaN     NaN                    0     Transient   0.0   \n",
              "1    NaN     NaN                    0     Transient   0.0   \n",
              "2    NaN     NaN                    0     Transient  75.0   \n",
              "\n",
              "   required_car_parking_spaces  total_of_special_requests  reservation_status  \\\n",
              "0                            0                          0           Check-Out   \n",
              "1                            0                          0           Check-Out   \n",
              "2                            0                          0           Check-Out   \n",
              "\n",
              "  reservation_status_date  \n",
              "0              2015-07-01  \n",
              "1              2015-07-01  \n",
              "2              2015-07-02  \n",
              "\n",
              "[3 rows x 32 columns]"
            ],
            "text/html": [
              "\n",
              "  <div id=\"df-c3ea9896-ba9c-4d3a-9ae3-fbe202f8412c\">\n",
              "    <div class=\"colab-df-container\">\n",
              "      <div>\n",
              "<style scoped>\n",
              "    .dataframe tbody tr th:only-of-type {\n",
              "        vertical-align: middle;\n",
              "    }\n",
              "\n",
              "    .dataframe tbody tr th {\n",
              "        vertical-align: top;\n",
              "    }\n",
              "\n",
              "    .dataframe thead th {\n",
              "        text-align: right;\n",
              "    }\n",
              "</style>\n",
              "<table border=\"1\" class=\"dataframe\">\n",
              "  <thead>\n",
              "    <tr style=\"text-align: right;\">\n",
              "      <th></th>\n",
              "      <th>hotel</th>\n",
              "      <th>is_canceled</th>\n",
              "      <th>lead_time</th>\n",
              "      <th>arrival_date_year</th>\n",
              "      <th>arrival_date_month</th>\n",
              "      <th>arrival_date_week_number</th>\n",
              "      <th>arrival_date_day_of_month</th>\n",
              "      <th>stays_in_weekend_nights</th>\n",
              "      <th>stays_in_week_nights</th>\n",
              "      <th>adults</th>\n",
              "      <th>...</th>\n",
              "      <th>deposit_type</th>\n",
              "      <th>agent</th>\n",
              "      <th>company</th>\n",
              "      <th>days_in_waiting_list</th>\n",
              "      <th>customer_type</th>\n",
              "      <th>adr</th>\n",
              "      <th>required_car_parking_spaces</th>\n",
              "      <th>total_of_special_requests</th>\n",
              "      <th>reservation_status</th>\n",
              "      <th>reservation_status_date</th>\n",
              "    </tr>\n",
              "  </thead>\n",
              "  <tbody>\n",
              "    <tr>\n",
              "      <th>0</th>\n",
              "      <td>Resort Hotel</td>\n",
              "      <td>0</td>\n",
              "      <td>342</td>\n",
              "      <td>2015</td>\n",
              "      <td>July</td>\n",
              "      <td>27</td>\n",
              "      <td>1</td>\n",
              "      <td>0</td>\n",
              "      <td>0</td>\n",
              "      <td>2</td>\n",
              "      <td>...</td>\n",
              "      <td>No Deposit</td>\n",
              "      <td>NaN</td>\n",
              "      <td>NaN</td>\n",
              "      <td>0</td>\n",
              "      <td>Transient</td>\n",
              "      <td>0.0</td>\n",
              "      <td>0</td>\n",
              "      <td>0</td>\n",
              "      <td>Check-Out</td>\n",
              "      <td>2015-07-01</td>\n",
              "    </tr>\n",
              "    <tr>\n",
              "      <th>1</th>\n",
              "      <td>Resort Hotel</td>\n",
              "      <td>0</td>\n",
              "      <td>737</td>\n",
              "      <td>2015</td>\n",
              "      <td>July</td>\n",
              "      <td>27</td>\n",
              "      <td>1</td>\n",
              "      <td>0</td>\n",
              "      <td>0</td>\n",
              "      <td>2</td>\n",
              "      <td>...</td>\n",
              "      <td>No Deposit</td>\n",
              "      <td>NaN</td>\n",
              "      <td>NaN</td>\n",
              "      <td>0</td>\n",
              "      <td>Transient</td>\n",
              "      <td>0.0</td>\n",
              "      <td>0</td>\n",
              "      <td>0</td>\n",
              "      <td>Check-Out</td>\n",
              "      <td>2015-07-01</td>\n",
              "    </tr>\n",
              "    <tr>\n",
              "      <th>2</th>\n",
              "      <td>Resort Hotel</td>\n",
              "      <td>0</td>\n",
              "      <td>7</td>\n",
              "      <td>2015</td>\n",
              "      <td>July</td>\n",
              "      <td>27</td>\n",
              "      <td>1</td>\n",
              "      <td>0</td>\n",
              "      <td>1</td>\n",
              "      <td>1</td>\n",
              "      <td>...</td>\n",
              "      <td>No Deposit</td>\n",
              "      <td>NaN</td>\n",
              "      <td>NaN</td>\n",
              "      <td>0</td>\n",
              "      <td>Transient</td>\n",
              "      <td>75.0</td>\n",
              "      <td>0</td>\n",
              "      <td>0</td>\n",
              "      <td>Check-Out</td>\n",
              "      <td>2015-07-02</td>\n",
              "    </tr>\n",
              "  </tbody>\n",
              "</table>\n",
              "<p>3 rows × 32 columns</p>\n",
              "</div>\n",
              "      <button class=\"colab-df-convert\" onclick=\"convertToInteractive('df-c3ea9896-ba9c-4d3a-9ae3-fbe202f8412c')\"\n",
              "              title=\"Convert this dataframe to an interactive table.\"\n",
              "              style=\"display:none;\">\n",
              "        \n",
              "  <svg xmlns=\"http://www.w3.org/2000/svg\" height=\"24px\"viewBox=\"0 0 24 24\"\n",
              "       width=\"24px\">\n",
              "    <path d=\"M0 0h24v24H0V0z\" fill=\"none\"/>\n",
              "    <path d=\"M18.56 5.44l.94 2.06.94-2.06 2.06-.94-2.06-.94-.94-2.06-.94 2.06-2.06.94zm-11 1L8.5 8.5l.94-2.06 2.06-.94-2.06-.94L8.5 2.5l-.94 2.06-2.06.94zm10 10l.94 2.06.94-2.06 2.06-.94-2.06-.94-.94-2.06-.94 2.06-2.06.94z\"/><path d=\"M17.41 7.96l-1.37-1.37c-.4-.4-.92-.59-1.43-.59-.52 0-1.04.2-1.43.59L10.3 9.45l-7.72 7.72c-.78.78-.78 2.05 0 2.83L4 21.41c.39.39.9.59 1.41.59.51 0 1.02-.2 1.41-.59l7.78-7.78 2.81-2.81c.8-.78.8-2.07 0-2.86zM5.41 20L4 18.59l7.72-7.72 1.47 1.35L5.41 20z\"/>\n",
              "  </svg>\n",
              "      </button>\n",
              "      \n",
              "  <style>\n",
              "    .colab-df-container {\n",
              "      display:flex;\n",
              "      flex-wrap:wrap;\n",
              "      gap: 12px;\n",
              "    }\n",
              "\n",
              "    .colab-df-convert {\n",
              "      background-color: #E8F0FE;\n",
              "      border: none;\n",
              "      border-radius: 50%;\n",
              "      cursor: pointer;\n",
              "      display: none;\n",
              "      fill: #1967D2;\n",
              "      height: 32px;\n",
              "      padding: 0 0 0 0;\n",
              "      width: 32px;\n",
              "    }\n",
              "\n",
              "    .colab-df-convert:hover {\n",
              "      background-color: #E2EBFA;\n",
              "      box-shadow: 0px 1px 2px rgba(60, 64, 67, 0.3), 0px 1px 3px 1px rgba(60, 64, 67, 0.15);\n",
              "      fill: #174EA6;\n",
              "    }\n",
              "\n",
              "    [theme=dark] .colab-df-convert {\n",
              "      background-color: #3B4455;\n",
              "      fill: #D2E3FC;\n",
              "    }\n",
              "\n",
              "    [theme=dark] .colab-df-convert:hover {\n",
              "      background-color: #434B5C;\n",
              "      box-shadow: 0px 1px 3px 1px rgba(0, 0, 0, 0.15);\n",
              "      filter: drop-shadow(0px 1px 2px rgba(0, 0, 0, 0.3));\n",
              "      fill: #FFFFFF;\n",
              "    }\n",
              "  </style>\n",
              "\n",
              "      <script>\n",
              "        const buttonEl =\n",
              "          document.querySelector('#df-c3ea9896-ba9c-4d3a-9ae3-fbe202f8412c button.colab-df-convert');\n",
              "        buttonEl.style.display =\n",
              "          google.colab.kernel.accessAllowed ? 'block' : 'none';\n",
              "\n",
              "        async function convertToInteractive(key) {\n",
              "          const element = document.querySelector('#df-c3ea9896-ba9c-4d3a-9ae3-fbe202f8412c');\n",
              "          const dataTable =\n",
              "            await google.colab.kernel.invokeFunction('convertToInteractive',\n",
              "                                                     [key], {});\n",
              "          if (!dataTable) return;\n",
              "\n",
              "          const docLinkHtml = 'Like what you see? Visit the ' +\n",
              "            '<a target=\"_blank\" href=https://colab.research.google.com/notebooks/data_table.ipynb>data table notebook</a>'\n",
              "            + ' to learn more about interactive tables.';\n",
              "          element.innerHTML = '';\n",
              "          dataTable['output_type'] = 'display_data';\n",
              "          await google.colab.output.renderOutput(dataTable, element);\n",
              "          const docLink = document.createElement('div');\n",
              "          docLink.innerHTML = docLinkHtml;\n",
              "          element.appendChild(docLink);\n",
              "        }\n",
              "      </script>\n",
              "    </div>\n",
              "  </div>\n",
              "  "
            ]
          },
          "metadata": {},
          "execution_count": 4
        }
      ]
    },
    {
      "cell_type": "code",
      "source": [
        "hotel_df.tail(3)"
      ],
      "metadata": {
        "colab": {
          "base_uri": "https://localhost:8080/",
          "height": 288
        },
        "id": "VyMKiyklSykH",
        "outputId": "e9efa0ad-bb78-47bd-e977-6d54b0060c71"
      },
      "execution_count": 5,
      "outputs": [
        {
          "output_type": "execute_result",
          "data": {
            "text/plain": [
              "             hotel  is_canceled  lead_time  arrival_date_year  \\\n",
              "119387  City Hotel            0         34               2017   \n",
              "119388  City Hotel            0        109               2017   \n",
              "119389  City Hotel            0        205               2017   \n",
              "\n",
              "       arrival_date_month  arrival_date_week_number  \\\n",
              "119387             August                        35   \n",
              "119388             August                        35   \n",
              "119389             August                        35   \n",
              "\n",
              "        arrival_date_day_of_month  stays_in_weekend_nights  \\\n",
              "119387                         31                        2   \n",
              "119388                         31                        2   \n",
              "119389                         29                        2   \n",
              "\n",
              "        stays_in_week_nights  adults  ...  deposit_type  agent company  \\\n",
              "119387                     5       2  ...    No Deposit    9.0     NaN   \n",
              "119388                     5       2  ...    No Deposit   89.0     NaN   \n",
              "119389                     7       2  ...    No Deposit    9.0     NaN   \n",
              "\n",
              "       days_in_waiting_list customer_type     adr  \\\n",
              "119387                    0     Transient  157.71   \n",
              "119388                    0     Transient  104.40   \n",
              "119389                    0     Transient  151.20   \n",
              "\n",
              "        required_car_parking_spaces  total_of_special_requests  \\\n",
              "119387                            0                          4   \n",
              "119388                            0                          0   \n",
              "119389                            0                          2   \n",
              "\n",
              "        reservation_status reservation_status_date  \n",
              "119387           Check-Out              2017-09-07  \n",
              "119388           Check-Out              2017-09-07  \n",
              "119389           Check-Out              2017-09-07  \n",
              "\n",
              "[3 rows x 32 columns]"
            ],
            "text/html": [
              "\n",
              "  <div id=\"df-ff05b78c-5b04-4c50-bbc7-139c2853ea51\">\n",
              "    <div class=\"colab-df-container\">\n",
              "      <div>\n",
              "<style scoped>\n",
              "    .dataframe tbody tr th:only-of-type {\n",
              "        vertical-align: middle;\n",
              "    }\n",
              "\n",
              "    .dataframe tbody tr th {\n",
              "        vertical-align: top;\n",
              "    }\n",
              "\n",
              "    .dataframe thead th {\n",
              "        text-align: right;\n",
              "    }\n",
              "</style>\n",
              "<table border=\"1\" class=\"dataframe\">\n",
              "  <thead>\n",
              "    <tr style=\"text-align: right;\">\n",
              "      <th></th>\n",
              "      <th>hotel</th>\n",
              "      <th>is_canceled</th>\n",
              "      <th>lead_time</th>\n",
              "      <th>arrival_date_year</th>\n",
              "      <th>arrival_date_month</th>\n",
              "      <th>arrival_date_week_number</th>\n",
              "      <th>arrival_date_day_of_month</th>\n",
              "      <th>stays_in_weekend_nights</th>\n",
              "      <th>stays_in_week_nights</th>\n",
              "      <th>adults</th>\n",
              "      <th>...</th>\n",
              "      <th>deposit_type</th>\n",
              "      <th>agent</th>\n",
              "      <th>company</th>\n",
              "      <th>days_in_waiting_list</th>\n",
              "      <th>customer_type</th>\n",
              "      <th>adr</th>\n",
              "      <th>required_car_parking_spaces</th>\n",
              "      <th>total_of_special_requests</th>\n",
              "      <th>reservation_status</th>\n",
              "      <th>reservation_status_date</th>\n",
              "    </tr>\n",
              "  </thead>\n",
              "  <tbody>\n",
              "    <tr>\n",
              "      <th>119387</th>\n",
              "      <td>City Hotel</td>\n",
              "      <td>0</td>\n",
              "      <td>34</td>\n",
              "      <td>2017</td>\n",
              "      <td>August</td>\n",
              "      <td>35</td>\n",
              "      <td>31</td>\n",
              "      <td>2</td>\n",
              "      <td>5</td>\n",
              "      <td>2</td>\n",
              "      <td>...</td>\n",
              "      <td>No Deposit</td>\n",
              "      <td>9.0</td>\n",
              "      <td>NaN</td>\n",
              "      <td>0</td>\n",
              "      <td>Transient</td>\n",
              "      <td>157.71</td>\n",
              "      <td>0</td>\n",
              "      <td>4</td>\n",
              "      <td>Check-Out</td>\n",
              "      <td>2017-09-07</td>\n",
              "    </tr>\n",
              "    <tr>\n",
              "      <th>119388</th>\n",
              "      <td>City Hotel</td>\n",
              "      <td>0</td>\n",
              "      <td>109</td>\n",
              "      <td>2017</td>\n",
              "      <td>August</td>\n",
              "      <td>35</td>\n",
              "      <td>31</td>\n",
              "      <td>2</td>\n",
              "      <td>5</td>\n",
              "      <td>2</td>\n",
              "      <td>...</td>\n",
              "      <td>No Deposit</td>\n",
              "      <td>89.0</td>\n",
              "      <td>NaN</td>\n",
              "      <td>0</td>\n",
              "      <td>Transient</td>\n",
              "      <td>104.40</td>\n",
              "      <td>0</td>\n",
              "      <td>0</td>\n",
              "      <td>Check-Out</td>\n",
              "      <td>2017-09-07</td>\n",
              "    </tr>\n",
              "    <tr>\n",
              "      <th>119389</th>\n",
              "      <td>City Hotel</td>\n",
              "      <td>0</td>\n",
              "      <td>205</td>\n",
              "      <td>2017</td>\n",
              "      <td>August</td>\n",
              "      <td>35</td>\n",
              "      <td>29</td>\n",
              "      <td>2</td>\n",
              "      <td>7</td>\n",
              "      <td>2</td>\n",
              "      <td>...</td>\n",
              "      <td>No Deposit</td>\n",
              "      <td>9.0</td>\n",
              "      <td>NaN</td>\n",
              "      <td>0</td>\n",
              "      <td>Transient</td>\n",
              "      <td>151.20</td>\n",
              "      <td>0</td>\n",
              "      <td>2</td>\n",
              "      <td>Check-Out</td>\n",
              "      <td>2017-09-07</td>\n",
              "    </tr>\n",
              "  </tbody>\n",
              "</table>\n",
              "<p>3 rows × 32 columns</p>\n",
              "</div>\n",
              "      <button class=\"colab-df-convert\" onclick=\"convertToInteractive('df-ff05b78c-5b04-4c50-bbc7-139c2853ea51')\"\n",
              "              title=\"Convert this dataframe to an interactive table.\"\n",
              "              style=\"display:none;\">\n",
              "        \n",
              "  <svg xmlns=\"http://www.w3.org/2000/svg\" height=\"24px\"viewBox=\"0 0 24 24\"\n",
              "       width=\"24px\">\n",
              "    <path d=\"M0 0h24v24H0V0z\" fill=\"none\"/>\n",
              "    <path d=\"M18.56 5.44l.94 2.06.94-2.06 2.06-.94-2.06-.94-.94-2.06-.94 2.06-2.06.94zm-11 1L8.5 8.5l.94-2.06 2.06-.94-2.06-.94L8.5 2.5l-.94 2.06-2.06.94zm10 10l.94 2.06.94-2.06 2.06-.94-2.06-.94-.94-2.06-.94 2.06-2.06.94z\"/><path d=\"M17.41 7.96l-1.37-1.37c-.4-.4-.92-.59-1.43-.59-.52 0-1.04.2-1.43.59L10.3 9.45l-7.72 7.72c-.78.78-.78 2.05 0 2.83L4 21.41c.39.39.9.59 1.41.59.51 0 1.02-.2 1.41-.59l7.78-7.78 2.81-2.81c.8-.78.8-2.07 0-2.86zM5.41 20L4 18.59l7.72-7.72 1.47 1.35L5.41 20z\"/>\n",
              "  </svg>\n",
              "      </button>\n",
              "      \n",
              "  <style>\n",
              "    .colab-df-container {\n",
              "      display:flex;\n",
              "      flex-wrap:wrap;\n",
              "      gap: 12px;\n",
              "    }\n",
              "\n",
              "    .colab-df-convert {\n",
              "      background-color: #E8F0FE;\n",
              "      border: none;\n",
              "      border-radius: 50%;\n",
              "      cursor: pointer;\n",
              "      display: none;\n",
              "      fill: #1967D2;\n",
              "      height: 32px;\n",
              "      padding: 0 0 0 0;\n",
              "      width: 32px;\n",
              "    }\n",
              "\n",
              "    .colab-df-convert:hover {\n",
              "      background-color: #E2EBFA;\n",
              "      box-shadow: 0px 1px 2px rgba(60, 64, 67, 0.3), 0px 1px 3px 1px rgba(60, 64, 67, 0.15);\n",
              "      fill: #174EA6;\n",
              "    }\n",
              "\n",
              "    [theme=dark] .colab-df-convert {\n",
              "      background-color: #3B4455;\n",
              "      fill: #D2E3FC;\n",
              "    }\n",
              "\n",
              "    [theme=dark] .colab-df-convert:hover {\n",
              "      background-color: #434B5C;\n",
              "      box-shadow: 0px 1px 3px 1px rgba(0, 0, 0, 0.15);\n",
              "      filter: drop-shadow(0px 1px 2px rgba(0, 0, 0, 0.3));\n",
              "      fill: #FFFFFF;\n",
              "    }\n",
              "  </style>\n",
              "\n",
              "      <script>\n",
              "        const buttonEl =\n",
              "          document.querySelector('#df-ff05b78c-5b04-4c50-bbc7-139c2853ea51 button.colab-df-convert');\n",
              "        buttonEl.style.display =\n",
              "          google.colab.kernel.accessAllowed ? 'block' : 'none';\n",
              "\n",
              "        async function convertToInteractive(key) {\n",
              "          const element = document.querySelector('#df-ff05b78c-5b04-4c50-bbc7-139c2853ea51');\n",
              "          const dataTable =\n",
              "            await google.colab.kernel.invokeFunction('convertToInteractive',\n",
              "                                                     [key], {});\n",
              "          if (!dataTable) return;\n",
              "\n",
              "          const docLinkHtml = 'Like what you see? Visit the ' +\n",
              "            '<a target=\"_blank\" href=https://colab.research.google.com/notebooks/data_table.ipynb>data table notebook</a>'\n",
              "            + ' to learn more about interactive tables.';\n",
              "          element.innerHTML = '';\n",
              "          dataTable['output_type'] = 'display_data';\n",
              "          await google.colab.output.renderOutput(dataTable, element);\n",
              "          const docLink = document.createElement('div');\n",
              "          docLink.innerHTML = docLinkHtml;\n",
              "          element.appendChild(docLink);\n",
              "        }\n",
              "      </script>\n",
              "    </div>\n",
              "  </div>\n",
              "  "
            ]
          },
          "metadata": {},
          "execution_count": 5
        }
      ]
    },
    {
      "cell_type": "markdown",
      "source": [
        "**Preprocessing:**\n",
        "1. Inspecting the data. - Here first viewed the information of data with .info() command. However, isnull().sum() serves to be more appealing. Hence, using it to spot the null values.\n",
        "\n",
        "  1. Inspecting the data for null values\n",
        "  2. Missing features in the data\n",
        "  3. Get the basics stastics for each feature.\n",
        "\n",
        "2. We will create a new dataframe and deal with the null values by replacing it with appropriate values or may be drop them. This way we do not make any changes to the raw data."
      ],
      "metadata": {
        "id": "jhyfSqtT6GVm"
      }
    },
    {
      "cell_type": "markdown",
      "source": [
        "**1. Inspecting the data for null values**"
      ],
      "metadata": {
        "id": "-FXG8TNWATTo"
      }
    },
    {
      "cell_type": "code",
      "source": [
        "# Inspecting the data\n",
        "hotel_df.isnull().sum().sort_values(ascending = False)"
      ],
      "metadata": {
        "colab": {
          "base_uri": "https://localhost:8080/"
        },
        "id": "_SxpoasNUaYG",
        "outputId": "c1198341-85ec-4089-bbd6-202dac6acb43"
      },
      "execution_count": 16,
      "outputs": [
        {
          "output_type": "execute_result",
          "data": {
            "text/plain": [
              "company                           112593\n",
              "agent                              16340\n",
              "country                              488\n",
              "children                               4\n",
              "reserved_room_type                     0\n",
              "assigned_room_type                     0\n",
              "booking_changes                        0\n",
              "deposit_type                           0\n",
              "hotel                                  0\n",
              "previous_cancellations                 0\n",
              "days_in_waiting_list                   0\n",
              "customer_type                          0\n",
              "adr                                    0\n",
              "required_car_parking_spaces            0\n",
              "total_of_special_requests              0\n",
              "reservation_status                     0\n",
              "previous_bookings_not_canceled         0\n",
              "is_repeated_guest                      0\n",
              "is_canceled                            0\n",
              "distribution_channel                   0\n",
              "market_segment                         0\n",
              "meal                                   0\n",
              "babies                                 0\n",
              "adults                                 0\n",
              "stays_in_week_nights                   0\n",
              "stays_in_weekend_nights                0\n",
              "arrival_date_day_of_month              0\n",
              "arrival_date_week_number               0\n",
              "arrival_date_month                     0\n",
              "arrival_date_year                      0\n",
              "lead_time                              0\n",
              "reservation_status_date                0\n",
              "dtype: int64"
            ]
          },
          "metadata": {},
          "execution_count": 16
        }
      ]
    },
    {
      "cell_type": "markdown",
      "source": [
        "**2.   Missing features in the data**\n",
        "\n",
        "From this we can device that the following columns have null values, hence first we need to work on correcting these featuers:\n",
        "'agent', 'company', 'country', 'children'\n",
        "\n",
        "1. 'agent' - This refers to the agent Id.\n",
        "  When the field is null, it means those customers/ bookings as direct to hotel, hence we need not omit them from the count. However, we can have a different class defined for them. The data amounts to '16340' rows hence, to retain the data of other associated columns we can replace the null values (NaN) with '0'.\n",
        "\n",
        "2. 'company' - This refers to the employees belonging to a certain company. Hence if the field is null, it indicates the non employee trips. These could be the self funded trips. While the others could be funded by the company. So, here as well we can replace the null values (NaN) with '0'.\n",
        "\n",
        "3. 'country'- Ideally every customer must belong to a unique country. Hence this field cannot be empty. We could either drop the rows containing the null values or replace them with mean/median or mode of the data. Here mode might be suitable because it means we will take the value with maximum occurance and fill it in place of the null values. This data is however quite less in number ('488' rows only) when compared to the volume of data. So, it might not have a  significant impact on the analysis.\n",
        "\n",
        "4. 'children' - Null values may simply imply zero children. This case can be handeled similar to the preivous one. However, the impact on analysis will be low as the number of rows is just '4'."
      ],
      "metadata": {
        "id": "JgSw4PPTU3k0"
      }
    },
    {
      "cell_type": "markdown",
      "source": [
        "**3.   Get the basics stastics for each feature.**"
      ],
      "metadata": {
        "id": "fM-iBMjEACJR"
      }
    },
    {
      "cell_type": "code",
      "source": [
        "# To get the basic statistical data of each column. This can be used to draw useful conclusions in different aspects.\n",
        "hotel_df.describe()"
      ],
      "metadata": {
        "colab": {
          "base_uri": "https://localhost:8080/",
          "height": 364
        },
        "id": "hn_yOo9PUtSt",
        "outputId": "7765d361-20fd-44ed-c979-022426a1e9ee"
      },
      "execution_count": 19,
      "outputs": [
        {
          "output_type": "execute_result",
          "data": {
            "text/plain": [
              "         is_canceled      lead_time  arrival_date_year  \\\n",
              "count  119390.000000  119390.000000      119390.000000   \n",
              "mean        0.370416     104.011416        2016.156554   \n",
              "std         0.482918     106.863097           0.707476   \n",
              "min         0.000000       0.000000        2015.000000   \n",
              "25%         0.000000      18.000000        2016.000000   \n",
              "50%         0.000000      69.000000        2016.000000   \n",
              "75%         1.000000     160.000000        2017.000000   \n",
              "max         1.000000     737.000000        2017.000000   \n",
              "\n",
              "       arrival_date_week_number  arrival_date_day_of_month  \\\n",
              "count             119390.000000              119390.000000   \n",
              "mean                  27.165173                  15.798241   \n",
              "std                   13.605138                   8.780829   \n",
              "min                    1.000000                   1.000000   \n",
              "25%                   16.000000                   8.000000   \n",
              "50%                   28.000000                  16.000000   \n",
              "75%                   38.000000                  23.000000   \n",
              "max                   53.000000                  31.000000   \n",
              "\n",
              "       stays_in_weekend_nights  stays_in_week_nights         adults  \\\n",
              "count            119390.000000         119390.000000  119390.000000   \n",
              "mean                  0.927599              2.500302       1.856403   \n",
              "std                   0.998613              1.908286       0.579261   \n",
              "min                   0.000000              0.000000       0.000000   \n",
              "25%                   0.000000              1.000000       2.000000   \n",
              "50%                   1.000000              2.000000       2.000000   \n",
              "75%                   2.000000              3.000000       2.000000   \n",
              "max                  19.000000             50.000000      55.000000   \n",
              "\n",
              "            children         babies  is_repeated_guest  \\\n",
              "count  119386.000000  119390.000000      119390.000000   \n",
              "mean        0.103890       0.007949           0.031912   \n",
              "std         0.398561       0.097436           0.175767   \n",
              "min         0.000000       0.000000           0.000000   \n",
              "25%         0.000000       0.000000           0.000000   \n",
              "50%         0.000000       0.000000           0.000000   \n",
              "75%         0.000000       0.000000           0.000000   \n",
              "max        10.000000      10.000000           1.000000   \n",
              "\n",
              "       previous_cancellations  previous_bookings_not_canceled  \\\n",
              "count           119390.000000                   119390.000000   \n",
              "mean                 0.087118                        0.137097   \n",
              "std                  0.844336                        1.497437   \n",
              "min                  0.000000                        0.000000   \n",
              "25%                  0.000000                        0.000000   \n",
              "50%                  0.000000                        0.000000   \n",
              "75%                  0.000000                        0.000000   \n",
              "max                 26.000000                       72.000000   \n",
              "\n",
              "       booking_changes          agent      company  days_in_waiting_list  \\\n",
              "count    119390.000000  103050.000000  6797.000000         119390.000000   \n",
              "mean          0.221124      86.693382   189.266735              2.321149   \n",
              "std           0.652306     110.774548   131.655015             17.594721   \n",
              "min           0.000000       1.000000     6.000000              0.000000   \n",
              "25%           0.000000       9.000000    62.000000              0.000000   \n",
              "50%           0.000000      14.000000   179.000000              0.000000   \n",
              "75%           0.000000     229.000000   270.000000              0.000000   \n",
              "max          21.000000     535.000000   543.000000            391.000000   \n",
              "\n",
              "                 adr  required_car_parking_spaces  total_of_special_requests  \n",
              "count  119390.000000                119390.000000              119390.000000  \n",
              "mean      101.831122                     0.062518                   0.571363  \n",
              "std        50.535790                     0.245291                   0.792798  \n",
              "min        -6.380000                     0.000000                   0.000000  \n",
              "25%        69.290000                     0.000000                   0.000000  \n",
              "50%        94.575000                     0.000000                   0.000000  \n",
              "75%       126.000000                     0.000000                   1.000000  \n",
              "max      5400.000000                     8.000000                   5.000000  "
            ],
            "text/html": [
              "\n",
              "  <div id=\"df-b5165020-113c-4def-9f07-bb1f7e130104\">\n",
              "    <div class=\"colab-df-container\">\n",
              "      <div>\n",
              "<style scoped>\n",
              "    .dataframe tbody tr th:only-of-type {\n",
              "        vertical-align: middle;\n",
              "    }\n",
              "\n",
              "    .dataframe tbody tr th {\n",
              "        vertical-align: top;\n",
              "    }\n",
              "\n",
              "    .dataframe thead th {\n",
              "        text-align: right;\n",
              "    }\n",
              "</style>\n",
              "<table border=\"1\" class=\"dataframe\">\n",
              "  <thead>\n",
              "    <tr style=\"text-align: right;\">\n",
              "      <th></th>\n",
              "      <th>is_canceled</th>\n",
              "      <th>lead_time</th>\n",
              "      <th>arrival_date_year</th>\n",
              "      <th>arrival_date_week_number</th>\n",
              "      <th>arrival_date_day_of_month</th>\n",
              "      <th>stays_in_weekend_nights</th>\n",
              "      <th>stays_in_week_nights</th>\n",
              "      <th>adults</th>\n",
              "      <th>children</th>\n",
              "      <th>babies</th>\n",
              "      <th>is_repeated_guest</th>\n",
              "      <th>previous_cancellations</th>\n",
              "      <th>previous_bookings_not_canceled</th>\n",
              "      <th>booking_changes</th>\n",
              "      <th>agent</th>\n",
              "      <th>company</th>\n",
              "      <th>days_in_waiting_list</th>\n",
              "      <th>adr</th>\n",
              "      <th>required_car_parking_spaces</th>\n",
              "      <th>total_of_special_requests</th>\n",
              "    </tr>\n",
              "  </thead>\n",
              "  <tbody>\n",
              "    <tr>\n",
              "      <th>count</th>\n",
              "      <td>119390.000000</td>\n",
              "      <td>119390.000000</td>\n",
              "      <td>119390.000000</td>\n",
              "      <td>119390.000000</td>\n",
              "      <td>119390.000000</td>\n",
              "      <td>119390.000000</td>\n",
              "      <td>119390.000000</td>\n",
              "      <td>119390.000000</td>\n",
              "      <td>119386.000000</td>\n",
              "      <td>119390.000000</td>\n",
              "      <td>119390.000000</td>\n",
              "      <td>119390.000000</td>\n",
              "      <td>119390.000000</td>\n",
              "      <td>119390.000000</td>\n",
              "      <td>103050.000000</td>\n",
              "      <td>6797.000000</td>\n",
              "      <td>119390.000000</td>\n",
              "      <td>119390.000000</td>\n",
              "      <td>119390.000000</td>\n",
              "      <td>119390.000000</td>\n",
              "    </tr>\n",
              "    <tr>\n",
              "      <th>mean</th>\n",
              "      <td>0.370416</td>\n",
              "      <td>104.011416</td>\n",
              "      <td>2016.156554</td>\n",
              "      <td>27.165173</td>\n",
              "      <td>15.798241</td>\n",
              "      <td>0.927599</td>\n",
              "      <td>2.500302</td>\n",
              "      <td>1.856403</td>\n",
              "      <td>0.103890</td>\n",
              "      <td>0.007949</td>\n",
              "      <td>0.031912</td>\n",
              "      <td>0.087118</td>\n",
              "      <td>0.137097</td>\n",
              "      <td>0.221124</td>\n",
              "      <td>86.693382</td>\n",
              "      <td>189.266735</td>\n",
              "      <td>2.321149</td>\n",
              "      <td>101.831122</td>\n",
              "      <td>0.062518</td>\n",
              "      <td>0.571363</td>\n",
              "    </tr>\n",
              "    <tr>\n",
              "      <th>std</th>\n",
              "      <td>0.482918</td>\n",
              "      <td>106.863097</td>\n",
              "      <td>0.707476</td>\n",
              "      <td>13.605138</td>\n",
              "      <td>8.780829</td>\n",
              "      <td>0.998613</td>\n",
              "      <td>1.908286</td>\n",
              "      <td>0.579261</td>\n",
              "      <td>0.398561</td>\n",
              "      <td>0.097436</td>\n",
              "      <td>0.175767</td>\n",
              "      <td>0.844336</td>\n",
              "      <td>1.497437</td>\n",
              "      <td>0.652306</td>\n",
              "      <td>110.774548</td>\n",
              "      <td>131.655015</td>\n",
              "      <td>17.594721</td>\n",
              "      <td>50.535790</td>\n",
              "      <td>0.245291</td>\n",
              "      <td>0.792798</td>\n",
              "    </tr>\n",
              "    <tr>\n",
              "      <th>min</th>\n",
              "      <td>0.000000</td>\n",
              "      <td>0.000000</td>\n",
              "      <td>2015.000000</td>\n",
              "      <td>1.000000</td>\n",
              "      <td>1.000000</td>\n",
              "      <td>0.000000</td>\n",
              "      <td>0.000000</td>\n",
              "      <td>0.000000</td>\n",
              "      <td>0.000000</td>\n",
              "      <td>0.000000</td>\n",
              "      <td>0.000000</td>\n",
              "      <td>0.000000</td>\n",
              "      <td>0.000000</td>\n",
              "      <td>0.000000</td>\n",
              "      <td>1.000000</td>\n",
              "      <td>6.000000</td>\n",
              "      <td>0.000000</td>\n",
              "      <td>-6.380000</td>\n",
              "      <td>0.000000</td>\n",
              "      <td>0.000000</td>\n",
              "    </tr>\n",
              "    <tr>\n",
              "      <th>25%</th>\n",
              "      <td>0.000000</td>\n",
              "      <td>18.000000</td>\n",
              "      <td>2016.000000</td>\n",
              "      <td>16.000000</td>\n",
              "      <td>8.000000</td>\n",
              "      <td>0.000000</td>\n",
              "      <td>1.000000</td>\n",
              "      <td>2.000000</td>\n",
              "      <td>0.000000</td>\n",
              "      <td>0.000000</td>\n",
              "      <td>0.000000</td>\n",
              "      <td>0.000000</td>\n",
              "      <td>0.000000</td>\n",
              "      <td>0.000000</td>\n",
              "      <td>9.000000</td>\n",
              "      <td>62.000000</td>\n",
              "      <td>0.000000</td>\n",
              "      <td>69.290000</td>\n",
              "      <td>0.000000</td>\n",
              "      <td>0.000000</td>\n",
              "    </tr>\n",
              "    <tr>\n",
              "      <th>50%</th>\n",
              "      <td>0.000000</td>\n",
              "      <td>69.000000</td>\n",
              "      <td>2016.000000</td>\n",
              "      <td>28.000000</td>\n",
              "      <td>16.000000</td>\n",
              "      <td>1.000000</td>\n",
              "      <td>2.000000</td>\n",
              "      <td>2.000000</td>\n",
              "      <td>0.000000</td>\n",
              "      <td>0.000000</td>\n",
              "      <td>0.000000</td>\n",
              "      <td>0.000000</td>\n",
              "      <td>0.000000</td>\n",
              "      <td>0.000000</td>\n",
              "      <td>14.000000</td>\n",
              "      <td>179.000000</td>\n",
              "      <td>0.000000</td>\n",
              "      <td>94.575000</td>\n",
              "      <td>0.000000</td>\n",
              "      <td>0.000000</td>\n",
              "    </tr>\n",
              "    <tr>\n",
              "      <th>75%</th>\n",
              "      <td>1.000000</td>\n",
              "      <td>160.000000</td>\n",
              "      <td>2017.000000</td>\n",
              "      <td>38.000000</td>\n",
              "      <td>23.000000</td>\n",
              "      <td>2.000000</td>\n",
              "      <td>3.000000</td>\n",
              "      <td>2.000000</td>\n",
              "      <td>0.000000</td>\n",
              "      <td>0.000000</td>\n",
              "      <td>0.000000</td>\n",
              "      <td>0.000000</td>\n",
              "      <td>0.000000</td>\n",
              "      <td>0.000000</td>\n",
              "      <td>229.000000</td>\n",
              "      <td>270.000000</td>\n",
              "      <td>0.000000</td>\n",
              "      <td>126.000000</td>\n",
              "      <td>0.000000</td>\n",
              "      <td>1.000000</td>\n",
              "    </tr>\n",
              "    <tr>\n",
              "      <th>max</th>\n",
              "      <td>1.000000</td>\n",
              "      <td>737.000000</td>\n",
              "      <td>2017.000000</td>\n",
              "      <td>53.000000</td>\n",
              "      <td>31.000000</td>\n",
              "      <td>19.000000</td>\n",
              "      <td>50.000000</td>\n",
              "      <td>55.000000</td>\n",
              "      <td>10.000000</td>\n",
              "      <td>10.000000</td>\n",
              "      <td>1.000000</td>\n",
              "      <td>26.000000</td>\n",
              "      <td>72.000000</td>\n",
              "      <td>21.000000</td>\n",
              "      <td>535.000000</td>\n",
              "      <td>543.000000</td>\n",
              "      <td>391.000000</td>\n",
              "      <td>5400.000000</td>\n",
              "      <td>8.000000</td>\n",
              "      <td>5.000000</td>\n",
              "    </tr>\n",
              "  </tbody>\n",
              "</table>\n",
              "</div>\n",
              "      <button class=\"colab-df-convert\" onclick=\"convertToInteractive('df-b5165020-113c-4def-9f07-bb1f7e130104')\"\n",
              "              title=\"Convert this dataframe to an interactive table.\"\n",
              "              style=\"display:none;\">\n",
              "        \n",
              "  <svg xmlns=\"http://www.w3.org/2000/svg\" height=\"24px\"viewBox=\"0 0 24 24\"\n",
              "       width=\"24px\">\n",
              "    <path d=\"M0 0h24v24H0V0z\" fill=\"none\"/>\n",
              "    <path d=\"M18.56 5.44l.94 2.06.94-2.06 2.06-.94-2.06-.94-.94-2.06-.94 2.06-2.06.94zm-11 1L8.5 8.5l.94-2.06 2.06-.94-2.06-.94L8.5 2.5l-.94 2.06-2.06.94zm10 10l.94 2.06.94-2.06 2.06-.94-2.06-.94-.94-2.06-.94 2.06-2.06.94z\"/><path d=\"M17.41 7.96l-1.37-1.37c-.4-.4-.92-.59-1.43-.59-.52 0-1.04.2-1.43.59L10.3 9.45l-7.72 7.72c-.78.78-.78 2.05 0 2.83L4 21.41c.39.39.9.59 1.41.59.51 0 1.02-.2 1.41-.59l7.78-7.78 2.81-2.81c.8-.78.8-2.07 0-2.86zM5.41 20L4 18.59l7.72-7.72 1.47 1.35L5.41 20z\"/>\n",
              "  </svg>\n",
              "      </button>\n",
              "      \n",
              "  <style>\n",
              "    .colab-df-container {\n",
              "      display:flex;\n",
              "      flex-wrap:wrap;\n",
              "      gap: 12px;\n",
              "    }\n",
              "\n",
              "    .colab-df-convert {\n",
              "      background-color: #E8F0FE;\n",
              "      border: none;\n",
              "      border-radius: 50%;\n",
              "      cursor: pointer;\n",
              "      display: none;\n",
              "      fill: #1967D2;\n",
              "      height: 32px;\n",
              "      padding: 0 0 0 0;\n",
              "      width: 32px;\n",
              "    }\n",
              "\n",
              "    .colab-df-convert:hover {\n",
              "      background-color: #E2EBFA;\n",
              "      box-shadow: 0px 1px 2px rgba(60, 64, 67, 0.3), 0px 1px 3px 1px rgba(60, 64, 67, 0.15);\n",
              "      fill: #174EA6;\n",
              "    }\n",
              "\n",
              "    [theme=dark] .colab-df-convert {\n",
              "      background-color: #3B4455;\n",
              "      fill: #D2E3FC;\n",
              "    }\n",
              "\n",
              "    [theme=dark] .colab-df-convert:hover {\n",
              "      background-color: #434B5C;\n",
              "      box-shadow: 0px 1px 3px 1px rgba(0, 0, 0, 0.15);\n",
              "      filter: drop-shadow(0px 1px 2px rgba(0, 0, 0, 0.3));\n",
              "      fill: #FFFFFF;\n",
              "    }\n",
              "  </style>\n",
              "\n",
              "      <script>\n",
              "        const buttonEl =\n",
              "          document.querySelector('#df-b5165020-113c-4def-9f07-bb1f7e130104 button.colab-df-convert');\n",
              "        buttonEl.style.display =\n",
              "          google.colab.kernel.accessAllowed ? 'block' : 'none';\n",
              "\n",
              "        async function convertToInteractive(key) {\n",
              "          const element = document.querySelector('#df-b5165020-113c-4def-9f07-bb1f7e130104');\n",
              "          const dataTable =\n",
              "            await google.colab.kernel.invokeFunction('convertToInteractive',\n",
              "                                                     [key], {});\n",
              "          if (!dataTable) return;\n",
              "\n",
              "          const docLinkHtml = 'Like what you see? Visit the ' +\n",
              "            '<a target=\"_blank\" href=https://colab.research.google.com/notebooks/data_table.ipynb>data table notebook</a>'\n",
              "            + ' to learn more about interactive tables.';\n",
              "          element.innerHTML = '';\n",
              "          dataTable['output_type'] = 'display_data';\n",
              "          await google.colab.output.renderOutput(dataTable, element);\n",
              "          const docLink = document.createElement('div');\n",
              "          docLink.innerHTML = docLinkHtml;\n",
              "          element.appendChild(docLink);\n",
              "        }\n",
              "      </script>\n",
              "    </div>\n",
              "  </div>\n",
              "  "
            ]
          },
          "metadata": {},
          "execution_count": 19
        }
      ]
    },
    {
      "cell_type": "code",
      "source": [
        "# Viewing all the column names\n",
        "hotel_df.columns"
      ],
      "metadata": {
        "colab": {
          "base_uri": "https://localhost:8080/"
        },
        "id": "o1TkSqWsVMnN",
        "outputId": "cb0f2936-074a-4360-8dde-32be2072af5d"
      },
      "execution_count": 21,
      "outputs": [
        {
          "output_type": "execute_result",
          "data": {
            "text/plain": [
              "Index(['hotel', 'is_canceled', 'lead_time', 'arrival_date_year',\n",
              "       'arrival_date_month', 'arrival_date_week_number',\n",
              "       'arrival_date_day_of_month', 'stays_in_weekend_nights',\n",
              "       'stays_in_week_nights', 'adults', 'children', 'babies', 'meal',\n",
              "       'country', 'market_segment', 'distribution_channel',\n",
              "       'is_repeated_guest', 'previous_cancellations',\n",
              "       'previous_bookings_not_canceled', 'reserved_room_type',\n",
              "       'assigned_room_type', 'booking_changes', 'deposit_type', 'agent',\n",
              "       'company', 'days_in_waiting_list', 'customer_type', 'adr',\n",
              "       'required_car_parking_spaces', 'total_of_special_requests',\n",
              "       'reservation_status', 'reservation_status_date'],\n",
              "      dtype='object')"
            ]
          },
          "metadata": {},
          "execution_count": 21
        }
      ]
    },
    {
      "cell_type": "code",
      "source": [
        "# Creating a copy of the dataframe to avoid manipulation of the raw data.\n",
        "df = hotel_df.copy()"
      ],
      "metadata": {
        "id": "DCNKaldHX3y8"
      },
      "execution_count": 22,
      "outputs": []
    },
    {
      "cell_type": "markdown",
      "source": [
        "**Replacing the null values:**"
      ],
      "metadata": {
        "id": "T5BCBS4BAzEb"
      }
    },
    {
      "cell_type": "code",
      "source": [
        "# Replace the NaN values in 'agent'and 'company' columns with 0.\n",
        "df[['agent', 'company']] = df[['agent', 'company']].fillna(0)"
      ],
      "metadata": {
        "id": "mo0B0sagBBJV"
      },
      "execution_count": 24,
      "outputs": []
    },
    {
      "cell_type": "code",
      "source": [
        "# Finding the mode of country to get the country name with maximum occurance.\n",
        "df['country'].mode()\n",
        "# Here, we found portuguese as the maximum occurance. So we replace the nan values with the same."
      ],
      "metadata": {
        "colab": {
          "base_uri": "https://localhost:8080/"
        },
        "id": "eCh2T1QtDca5",
        "outputId": "b4a1d8e3-12b1-470b-84f2-4ac67da7b3bb"
      },
      "execution_count": 26,
      "outputs": [
        {
          "output_type": "execute_result",
          "data": {
            "text/plain": [
              "0    PRT\n",
              "dtype: object"
            ]
          },
          "metadata": {},
          "execution_count": 26
        }
      ]
    },
    {
      "cell_type": "code",
      "source": [
        "# Replace the NaN values in 'agent'and 'company' columns with 0.\n",
        "df['country'] = df['country'].fillna(df['country'].mode())"
      ],
      "metadata": {
        "id": "vR-YK2xwCWou"
      },
      "execution_count": 27,
      "outputs": []
    },
    {
      "cell_type": "code",
      "source": [
        "# Replace the NaN values in 'children' column with 0.\n",
        "df['children'] = df['children'].fillna(0)"
      ],
      "metadata": {
        "id": "lYr_6f3LCYBH"
      },
      "execution_count": 28,
      "outputs": []
    },
    {
      "cell_type": "markdown",
      "source": [
        "**Looking at the data types of each feature.**"
      ],
      "metadata": {
        "id": "HxtQqnbVD8TL"
      }
    },
    {
      "cell_type": "code",
      "source": [
        "df.dtypes"
      ],
      "metadata": {
        "colab": {
          "base_uri": "https://localhost:8080/"
        },
        "id": "TsOFHKQ3ED9x",
        "outputId": "ec2b316f-8f2e-494a-822a-25c3d1c30802"
      },
      "execution_count": 30,
      "outputs": [
        {
          "output_type": "execute_result",
          "data": {
            "text/plain": [
              "hotel                              object\n",
              "is_canceled                         int64\n",
              "lead_time                           int64\n",
              "arrival_date_year                   int64\n",
              "arrival_date_month                 object\n",
              "arrival_date_week_number            int64\n",
              "arrival_date_day_of_month           int64\n",
              "stays_in_weekend_nights             int64\n",
              "stays_in_week_nights                int64\n",
              "adults                              int64\n",
              "children                          float64\n",
              "babies                              int64\n",
              "meal                               object\n",
              "country                            object\n",
              "market_segment                     object\n",
              "distribution_channel               object\n",
              "is_repeated_guest                   int64\n",
              "previous_cancellations              int64\n",
              "previous_bookings_not_canceled      int64\n",
              "reserved_room_type                 object\n",
              "assigned_room_type                 object\n",
              "booking_changes                     int64\n",
              "deposit_type                       object\n",
              "agent                             float64\n",
              "company                           float64\n",
              "days_in_waiting_list                int64\n",
              "customer_type                      object\n",
              "adr                               float64\n",
              "required_car_parking_spaces         int64\n",
              "total_of_special_requests           int64\n",
              "reservation_status                 object\n",
              "reservation_status_date            object\n",
              "dtype: object"
            ]
          },
          "metadata": {},
          "execution_count": 30
        }
      ]
    },
    {
      "cell_type": "code",
      "source": [
        "# Convert 'çhildren' from float to integer.\n",
        "df['children'] = df['children'].astype('int64')\n",
        "# Convert 'agent' from float to integer.\n",
        "df['agent'] = df['agent'].astype('int64')\n",
        "# Convert 'company' from float to integer.\n",
        "df['company'] = df['company'].astype('int64')"
      ],
      "metadata": {
        "id": "wfCgSa7LEhEK"
      },
      "execution_count": 32,
      "outputs": []
    },
    {
      "cell_type": "markdown",
      "source": [
        "**Creating Functions:**"
      ],
      "metadata": {
        "id": "YTUsbTt1Fln8"
      }
    },
    {
      "cell_type": "code",
      "source": [
        "# To find the percentage value for any column\n",
        "def convert_to_percentage(pdseries, limit = None):\n",
        "  if limit != None:\n",
        "    pdseries = pdseries.value_counts()[:limit]\n",
        "  else:\n",
        "    pdseries = pdseries.value_counts()\n",
        "  x = pdseries.index\n",
        "  y = (pdseries/pdseries.sum()) * 100\n",
        "\n",
        "  return x, y"
      ],
      "metadata": {
        "id": "NTxn6tr5FqEE"
      },
      "execution_count": 33,
      "outputs": []
    },
    {
      "cell_type": "code",
      "source": [
        "# To plot any type of graph\n",
        "# def plot_graph(x,y,x_lable = None, y_label = None, figsize=(10,5), type='bar', title=None, subplot=None):\n",
        "  \n",
        "#   if x_label != None:\n",
        "#     plot.set_xlabel(x_label)\n",
        "#   if y_label != None:\n",
        "#     plot.set_ylabel(y_label)\n",
        "#   if title != None:\n",
        "#     plot.set_title(title)\n",
        "  \n",
        "#   if type == 'bar':\n",
        "#     sns.barplot(x,y,plot)\n"
      ],
      "metadata": {
        "id": "eiThhL5CIJm0"
      },
      "execution_count": 34,
      "outputs": []
    },
    {
      "cell_type": "markdown",
      "source": [
        "**Getting the names of hotels**"
      ],
      "metadata": {
        "id": "KkPipKiyAtTT"
      }
    },
    {
      "cell_type": "code",
      "source": [
        "# Getting the names of all hotels included in the data.\n",
        "hotel_names = df['hotel'].unique()\n",
        "print(f'The hotel names are: {hotel_names}')"
      ],
      "metadata": {
        "colab": {
          "base_uri": "https://localhost:8080/"
        },
        "id": "iWZJMguBXtNf",
        "outputId": "91cf0ab5-be59-4380-980a-4c730e50cd8c"
      },
      "execution_count": 35,
      "outputs": [
        {
          "output_type": "stream",
          "name": "stdout",
          "text": [
            "The hotel names are: ['Resort Hotel' 'City Hotel']\n"
          ]
        }
      ]
    },
    {
      "cell_type": "markdown",
      "source": [
        "**Basic Analysis of Agents:**"
      ],
      "metadata": {
        "id": "dXCodoROpAps"
      }
    },
    {
      "cell_type": "code",
      "source": [
        "# Getting the list of agents in the list\n",
        "agent_ids = sorted(df['agent'].dropna().unique())\n",
        "print(f'The agent ids are: {agent_ids}')\n",
        "\n",
        "# Total number of agents in the list\n",
        "print(f'The total number of agents in the above list is: {len(agent_ids)}')\n",
        "\n",
        "# How many bookings came through agents\n",
        "not_by_agent = df['agent'].isna().sum()\n",
        "print(f'Total bookings that came by means of agents is: {119390 - int(not_by_agent)}/119390')"
      ],
      "metadata": {
        "colab": {
          "base_uri": "https://localhost:8080/"
        },
        "id": "Eqkkm86HbIKc",
        "outputId": "652176eb-96a1-4911-ef3f-10cebd87c7ce"
      },
      "execution_count": 36,
      "outputs": [
        {
          "output_type": "stream",
          "name": "stdout",
          "text": [
            "The agent ids are: [0, 1, 2, 3, 4, 5, 6, 7, 8, 9, 10, 11, 12, 13, 14, 15, 16, 17, 19, 20, 21, 22, 23, 24, 25, 26, 27, 28, 29, 30, 31, 32, 33, 34, 35, 36, 37, 38, 39, 40, 41, 42, 44, 45, 47, 50, 52, 53, 54, 55, 56, 57, 58, 59, 60, 61, 63, 64, 66, 67, 68, 69, 70, 71, 72, 73, 74, 75, 77, 78, 79, 81, 82, 83, 85, 86, 87, 88, 89, 90, 91, 92, 93, 94, 95, 96, 98, 99, 103, 104, 105, 106, 107, 110, 111, 112, 114, 115, 117, 118, 119, 121, 122, 126, 127, 128, 129, 132, 133, 134, 135, 138, 139, 141, 142, 143, 144, 146, 147, 148, 149, 150, 151, 152, 153, 154, 155, 156, 157, 158, 159, 162, 163, 165, 167, 168, 170, 171, 173, 174, 175, 177, 179, 180, 181, 182, 183, 184, 185, 187, 191, 192, 193, 195, 196, 197, 201, 205, 208, 210, 211, 213, 214, 215, 216, 219, 220, 223, 227, 229, 232, 234, 235, 236, 240, 241, 242, 243, 244, 245, 247, 248, 249, 250, 251, 252, 253, 254, 256, 257, 258, 261, 262, 265, 267, 269, 270, 273, 275, 276, 278, 280, 281, 282, 283, 285, 286, 287, 288, 289, 290, 291, 294, 295, 296, 298, 299, 300, 301, 302, 303, 304, 305, 306, 307, 308, 310, 313, 314, 315, 321, 323, 324, 325, 326, 327, 328, 330, 331, 332, 333, 334, 335, 336, 337, 339, 341, 344, 346, 348, 350, 352, 354, 355, 358, 359, 360, 363, 364, 367, 368, 370, 371, 375, 378, 384, 385, 387, 388, 390, 391, 393, 394, 397, 403, 404, 405, 406, 408, 410, 411, 414, 416, 418, 420, 423, 425, 426, 427, 429, 430, 431, 432, 433, 434, 436, 438, 440, 441, 444, 446, 449, 450, 451, 453, 454, 455, 459, 461, 464, 467, 468, 469, 472, 474, 475, 476, 479, 480, 481, 483, 484, 492, 493, 495, 497, 502, 508, 509, 510, 526, 527, 531, 535]\n",
            "The total number of agents in the above list is: 334\n",
            "Total bookings that came by means of agents is: 119390/119390\n"
          ]
        }
      ]
    },
    {
      "cell_type": "markdown",
      "source": [
        "**Basic Analysis of possible Company tours and/ or personal tour :**"
      ],
      "metadata": {
        "id": "O949zL4DpExs"
      }
    },
    {
      "cell_type": "code",
      "source": [
        "# Getting the ids of all companies included in the data\n",
        "company_ids = sorted(df['company'].dropna().unique())\n",
        "print(f'The company ids are: {company_ids}')\n",
        "\n",
        "# Total number of companies in the list\n",
        "print(f'The total number of companies in the above list is: {len(company_ids)}')\n",
        "\n",
        "# Total bookings that do not belong to any company\n",
        "private_customers = df['company'].isna().sum()\n",
        "print(f'Total {private_customers} customers do not belong to any company.')"
      ],
      "metadata": {
        "colab": {
          "base_uri": "https://localhost:8080/"
        },
        "id": "KGIzP1GnXtGE",
        "outputId": "51b9518b-f55f-482b-c494-dfe97f530965"
      },
      "execution_count": 37,
      "outputs": [
        {
          "output_type": "stream",
          "name": "stdout",
          "text": [
            "The company ids are: [0, 6, 8, 9, 10, 11, 12, 14, 16, 18, 20, 22, 28, 29, 31, 32, 34, 35, 37, 38, 39, 40, 42, 43, 45, 46, 47, 48, 49, 51, 52, 53, 54, 59, 61, 62, 64, 65, 67, 68, 71, 72, 73, 76, 77, 78, 80, 81, 82, 83, 84, 85, 86, 88, 91, 92, 93, 94, 96, 99, 100, 101, 102, 103, 104, 105, 106, 107, 108, 109, 110, 112, 113, 115, 116, 118, 120, 122, 126, 127, 130, 132, 135, 137, 139, 140, 142, 143, 144, 146, 148, 149, 150, 153, 154, 158, 159, 160, 163, 165, 167, 168, 169, 174, 178, 179, 180, 183, 184, 185, 186, 192, 193, 195, 197, 200, 202, 203, 204, 207, 209, 210, 212, 213, 215, 216, 217, 218, 219, 220, 221, 222, 223, 224, 225, 227, 229, 230, 232, 233, 234, 237, 238, 240, 242, 243, 245, 246, 250, 251, 253, 254, 255, 257, 258, 259, 260, 263, 264, 268, 269, 270, 271, 272, 273, 274, 275, 277, 278, 279, 280, 281, 282, 284, 286, 287, 288, 289, 290, 291, 292, 293, 297, 301, 302, 304, 305, 307, 308, 309, 311, 312, 313, 314, 316, 317, 318, 319, 320, 321, 323, 324, 325, 329, 330, 331, 332, 333, 334, 337, 338, 341, 342, 343, 346, 347, 348, 349, 350, 351, 352, 353, 355, 356, 357, 358, 360, 361, 362, 364, 365, 366, 367, 368, 369, 370, 371, 372, 373, 376, 377, 378, 379, 380, 382, 383, 384, 385, 386, 388, 390, 391, 392, 393, 394, 395, 396, 397, 398, 399, 400, 401, 402, 403, 405, 407, 408, 409, 410, 411, 412, 413, 415, 416, 417, 418, 419, 420, 421, 422, 423, 424, 425, 426, 428, 429, 433, 435, 436, 437, 439, 442, 443, 444, 445, 446, 447, 448, 450, 451, 452, 454, 455, 456, 457, 458, 459, 460, 461, 465, 466, 470, 477, 478, 479, 481, 482, 483, 484, 485, 486, 487, 489, 490, 491, 492, 494, 496, 497, 498, 499, 501, 504, 506, 507, 511, 512, 513, 514, 515, 516, 518, 520, 521, 523, 525, 528, 530, 531, 534, 539, 541, 543]\n",
            "The total number of companies in the above list is: 353\n",
            "Total 0 customers do not belong to any company.\n"
          ]
        }
      ]
    },
    {
      "cell_type": "markdown",
      "source": [
        "**Basic Analysis of Countries:**"
      ],
      "metadata": {
        "id": "AeHWiaCnpXdU"
      }
    },
    {
      "cell_type": "code",
      "source": [
        "# Getting the country of origin for customers included in the data\n",
        "countrywise_customer = sorted(df['country'].dropna().unique())\n",
        "print(f'The customers come from these countries: {countrywise_customer}')\n",
        "\n",
        "# Total number of countries in the list\n",
        "print(f'Customers from {len(company_ids)} different countries visited these two hotels.')"
      ],
      "metadata": {
        "colab": {
          "base_uri": "https://localhost:8080/"
        },
        "id": "OCzynbCPXtAz",
        "outputId": "b280bccf-f68c-4c6f-e406-fd30ee73f1e9"
      },
      "execution_count": 38,
      "outputs": [
        {
          "output_type": "stream",
          "name": "stdout",
          "text": [
            "The customers come from these countries: ['ABW', 'AGO', 'AIA', 'ALB', 'AND', 'ARE', 'ARG', 'ARM', 'ASM', 'ATA', 'ATF', 'AUS', 'AUT', 'AZE', 'BDI', 'BEL', 'BEN', 'BFA', 'BGD', 'BGR', 'BHR', 'BHS', 'BIH', 'BLR', 'BOL', 'BRA', 'BRB', 'BWA', 'CAF', 'CHE', 'CHL', 'CHN', 'CIV', 'CMR', 'CN', 'COL', 'COM', 'CPV', 'CRI', 'CUB', 'CYM', 'CYP', 'CZE', 'DEU', 'DJI', 'DMA', 'DNK', 'DOM', 'DZA', 'ECU', 'EGY', 'ESP', 'EST', 'ETH', 'FIN', 'FJI', 'FRA', 'FRO', 'GAB', 'GBR', 'GEO', 'GGY', 'GHA', 'GIB', 'GLP', 'GNB', 'GRC', 'GTM', 'GUY', 'HKG', 'HND', 'HRV', 'HUN', 'IDN', 'IMN', 'IND', 'IRL', 'IRN', 'IRQ', 'ISL', 'ISR', 'ITA', 'JAM', 'JEY', 'JOR', 'JPN', 'KAZ', 'KEN', 'KHM', 'KIR', 'KNA', 'KOR', 'KWT', 'LAO', 'LBN', 'LBY', 'LCA', 'LIE', 'LKA', 'LTU', 'LUX', 'LVA', 'MAC', 'MAR', 'MCO', 'MDG', 'MDV', 'MEX', 'MKD', 'MLI', 'MLT', 'MMR', 'MNE', 'MOZ', 'MRT', 'MUS', 'MWI', 'MYS', 'MYT', 'NAM', 'NCL', 'NGA', 'NIC', 'NLD', 'NOR', 'NPL', 'NZL', 'OMN', 'PAK', 'PAN', 'PER', 'PHL', 'PLW', 'POL', 'PRI', 'PRT', 'PRY', 'PYF', 'QAT', 'ROU', 'RUS', 'RWA', 'SAU', 'SDN', 'SEN', 'SGP', 'SLE', 'SLV', 'SMR', 'SRB', 'STP', 'SUR', 'SVK', 'SVN', 'SWE', 'SYC', 'SYR', 'TGO', 'THA', 'TJK', 'TMP', 'TUN', 'TUR', 'TWN', 'TZA', 'UGA', 'UKR', 'UMI', 'URY', 'USA', 'UZB', 'VEN', 'VGB', 'VNM', 'ZAF', 'ZMB', 'ZWE']\n",
            "Customers from 353 different countries visited these two hotels.\n"
          ]
        }
      ]
    },
    {
      "cell_type": "markdown",
      "source": [
        "**For each hotel, looking at the number of countries from which the customers come:**"
      ],
      "metadata": {
        "id": "cqzPIQuhpgs8"
      }
    },
    {
      "cell_type": "code",
      "source": [
        "# Groupby Hotel Name to get the country of origin of customers for each hotels.\n",
        "grouped_hotel_country = df.groupby(['hotel'])['country']\n",
        "\n",
        "# Get list of countires for each hotel\n",
        "resort_hotel_country_list = grouped_hotel_country.get_group('Resort Hotel').unique()\n",
        "city_hotel_country_list = grouped_hotel_country.get_group('City Hotel').unique()\n",
        "\n",
        "print(f'Hotel \"Resort Hotel\" has got customers visiting from {len(resort_hotel_country_list)} different countries.')\n",
        "print(f'Hotel \"City Hotel\" has got customers visiting from {len(city_hotel_country_list)} different countries.')"
      ],
      "metadata": {
        "colab": {
          "base_uri": "https://localhost:8080/"
        },
        "id": "9oHeFnrBeVgy",
        "outputId": "fcec0643-9a03-4e57-b09f-efe176ee4216"
      },
      "execution_count": 39,
      "outputs": [
        {
          "output_type": "stream",
          "name": "stdout",
          "text": [
            "Hotel \"Resort Hotel\" has got customers visiting from 126 different countries.\n",
            "Hotel \"City Hotel\" has got customers visiting from 167 different countries.\n"
          ]
        }
      ]
    },
    {
      "cell_type": "code",
      "source": [
        "# Plotting the data in pie chart.\n",
        "plt.rcParams['figure.figsize'] = 5,5\n",
        "labels = df['hotel'].value_counts().index.tolist()\n",
        "values = df['hotel'].value_counts().tolist()\n",
        "colors = ['red','cyan']\n",
        "plt.pie(values, labels=labels, colors=colors, autopct='%1.1f%%',startangle=90, textprops={'fontsize': 14})"
      ],
      "metadata": {
        "colab": {
          "base_uri": "https://localhost:8080/",
          "height": 406
        },
        "id": "Xrs76MEzeRxp",
        "outputId": "5eb058a9-b9e6-45f8-d8af-7f5a522b7d4a"
      },
      "execution_count": 50,
      "outputs": [
        {
          "output_type": "execute_result",
          "data": {
            "text/plain": [
              "([<matplotlib.patches.Wedge at 0x7f92c5fff550>,\n",
              "  <matplotlib.patches.Wedge at 0x7f92c5fffc90>],\n",
              " [Text(-0.956416133381298, -0.5433858480011854, 'City Hotel'),\n",
              "  Text(0.9564161333812984, 0.5433858480011848, 'Resort Hotel')],\n",
              " [Text(-0.5216815272988897, -0.29639228072791923, '66.4%'),\n",
              "  Text(0.52168152729889, 0.29639228072791896, '33.6%')])"
            ]
          },
          "metadata": {},
          "execution_count": 50
        },
        {
          "output_type": "display_data",
          "data": {
            "text/plain": [
              "<Figure size 360x360 with 1 Axes>"
            ],
            "image/png": "[encoded data removed]"
          },
          "metadata": {}
        }
      ]
    },
    {
      "cell_type": "code",
      "source": [
        "hotel_adults = df.groupby(['hotel'])['adults']\n",
        "hotel_adults.describe()"
      ],
      "metadata": {
        "colab": {
          "base_uri": "https://localhost:8080/",
          "height": 143
        },
        "id": "8bWjEJ38kQOO",
        "outputId": "977da5b7-b337-4aaf-faa5-ae1681781409"
      },
      "execution_count": 54,
      "outputs": [
        {
          "output_type": "execute_result",
          "data": {
            "text/plain": [
              "                count      mean       std  min  25%  50%  75%   max\n",
              "hotel                                                              \n",
              "City Hotel    79330.0  1.850977  0.509292  0.0  2.0  2.0  2.0   4.0\n",
              "Resort Hotel  40060.0  1.867149  0.697285  0.0  2.0  2.0  2.0  55.0"
            ],
            "text/html": [
              "\n",
              "  <div id=\"df-9df67495-33a4-4ada-af04-780a79db0d86\">\n",
              "    <div class=\"colab-df-container\">\n",
              "      <div>\n",
              "<style scoped>\n",
              "    .dataframe tbody tr th:only-of-type {\n",
              "        vertical-align: middle;\n",
              "    }\n",
              "\n",
              "    .dataframe tbody tr th {\n",
              "        vertical-align: top;\n",
              "    }\n",
              "\n",
              "    .dataframe thead th {\n",
              "        text-align: right;\n",
              "    }\n",
              "</style>\n",
              "<table border=\"1\" class=\"dataframe\">\n",
              "  <thead>\n",
              "    <tr style=\"text-align: right;\">\n",
              "      <th></th>\n",
              "      <th>count</th>\n",
              "      <th>mean</th>\n",
              "      <th>std</th>\n",
              "      <th>min</th>\n",
              "      <th>25%</th>\n",
              "      <th>50%</th>\n",
              "      <th>75%</th>\n",
              "      <th>max</th>\n",
              "    </tr>\n",
              "    <tr>\n",
              "      <th>hotel</th>\n",
              "      <th></th>\n",
              "      <th></th>\n",
              "      <th></th>\n",
              "      <th></th>\n",
              "      <th></th>\n",
              "      <th></th>\n",
              "      <th></th>\n",
              "      <th></th>\n",
              "    </tr>\n",
              "  </thead>\n",
              "  <tbody>\n",
              "    <tr>\n",
              "      <th>City Hotel</th>\n",
              "      <td>79330.0</td>\n",
              "      <td>1.850977</td>\n",
              "      <td>0.509292</td>\n",
              "      <td>0.0</td>\n",
              "      <td>2.0</td>\n",
              "      <td>2.0</td>\n",
              "      <td>2.0</td>\n",
              "      <td>4.0</td>\n",
              "    </tr>\n",
              "    <tr>\n",
              "      <th>Resort Hotel</th>\n",
              "      <td>40060.0</td>\n",
              "      <td>1.867149</td>\n",
              "      <td>0.697285</td>\n",
              "      <td>0.0</td>\n",
              "      <td>2.0</td>\n",
              "      <td>2.0</td>\n",
              "      <td>2.0</td>\n",
              "      <td>55.0</td>\n",
              "    </tr>\n",
              "  </tbody>\n",
              "</table>\n",
              "</div>\n",
              "      <button class=\"colab-df-convert\" onclick=\"convertToInteractive('df-9df67495-33a4-4ada-af04-780a79db0d86')\"\n",
              "              title=\"Convert this dataframe to an interactive table.\"\n",
              "              style=\"display:none;\">\n",
              "        \n",
              "  <svg xmlns=\"http://www.w3.org/2000/svg\" height=\"24px\"viewBox=\"0 0 24 24\"\n",
              "       width=\"24px\">\n",
              "    <path d=\"M0 0h24v24H0V0z\" fill=\"none\"/>\n",
              "    <path d=\"M18.56 5.44l.94 2.06.94-2.06 2.06-.94-2.06-.94-.94-2.06-.94 2.06-2.06.94zm-11 1L8.5 8.5l.94-2.06 2.06-.94-2.06-.94L8.5 2.5l-.94 2.06-2.06.94zm10 10l.94 2.06.94-2.06 2.06-.94-2.06-.94-.94-2.06-.94 2.06-2.06.94z\"/><path d=\"M17.41 7.96l-1.37-1.37c-.4-.4-.92-.59-1.43-.59-.52 0-1.04.2-1.43.59L10.3 9.45l-7.72 7.72c-.78.78-.78 2.05 0 2.83L4 21.41c.39.39.9.59 1.41.59.51 0 1.02-.2 1.41-.59l7.78-7.78 2.81-2.81c.8-.78.8-2.07 0-2.86zM5.41 20L4 18.59l7.72-7.72 1.47 1.35L5.41 20z\"/>\n",
              "  </svg>\n",
              "      </button>\n",
              "      \n",
              "  <style>\n",
              "    .colab-df-container {\n",
              "      display:flex;\n",
              "      flex-wrap:wrap;\n",
              "      gap: 12px;\n",
              "    }\n",
              "\n",
              "    .colab-df-convert {\n",
              "      background-color: #E8F0FE;\n",
              "      border: none;\n",
              "      border-radius: 50%;\n",
              "      cursor: pointer;\n",
              "      display: none;\n",
              "      fill: #1967D2;\n",
              "      height: 32px;\n",
              "      padding: 0 0 0 0;\n",
              "      width: 32px;\n",
              "    }\n",
              "\n",
              "    .colab-df-convert:hover {\n",
              "      background-color: #E2EBFA;\n",
              "      box-shadow: 0px 1px 2px rgba(60, 64, 67, 0.3), 0px 1px 3px 1px rgba(60, 64, 67, 0.15);\n",
              "      fill: #174EA6;\n",
              "    }\n",
              "\n",
              "    [theme=dark] .colab-df-convert {\n",
              "      background-color: #3B4455;\n",
              "      fill: #D2E3FC;\n",
              "    }\n",
              "\n",
              "    [theme=dark] .colab-df-convert:hover {\n",
              "      background-color: #434B5C;\n",
              "      box-shadow: 0px 1px 3px 1px rgba(0, 0, 0, 0.15);\n",
              "      filter: drop-shadow(0px 1px 2px rgba(0, 0, 0, 0.3));\n",
              "      fill: #FFFFFF;\n",
              "    }\n",
              "  </style>\n",
              "\n",
              "      <script>\n",
              "        const buttonEl =\n",
              "          document.querySelector('#df-9df67495-33a4-4ada-af04-780a79db0d86 button.colab-df-convert');\n",
              "        buttonEl.style.display =\n",
              "          google.colab.kernel.accessAllowed ? 'block' : 'none';\n",
              "\n",
              "        async function convertToInteractive(key) {\n",
              "          const element = document.querySelector('#df-9df67495-33a4-4ada-af04-780a79db0d86');\n",
              "          const dataTable =\n",
              "            await google.colab.kernel.invokeFunction('convertToInteractive',\n",
              "                                                     [key], {});\n",
              "          if (!dataTable) return;\n",
              "\n",
              "          const docLinkHtml = 'Like what you see? Visit the ' +\n",
              "            '<a target=\"_blank\" href=https://colab.research.google.com/notebooks/data_table.ipynb>data table notebook</a>'\n",
              "            + ' to learn more about interactive tables.';\n",
              "          element.innerHTML = '';\n",
              "          dataTable['output_type'] = 'display_data';\n",
              "          await google.colab.output.renderOutput(dataTable, element);\n",
              "          const docLink = document.createElement('div');\n",
              "          docLink.innerHTML = docLinkHtml;\n",
              "          element.appendChild(docLink);\n",
              "        }\n",
              "      </script>\n",
              "    </div>\n",
              "  </div>\n",
              "  "
            ]
          },
          "metadata": {},
          "execution_count": 54
        }
      ]
    },
    {
      "cell_type": "code",
      "source": [
        "def countplot(data, x, hue, title = None):\n",
        "  plot = sns.countplot(data=data, x = x, hue = hue)\n",
        "  plt.legend(loc='upper right')\n",
        "  plot.set_title(title)\n",
        "  plt.xticks(rotation=90)\n",
        "  plt.show()"
      ],
      "metadata": {
        "id": "z6keYlhmO59W"
      },
      "execution_count": 68,
      "outputs": []
    },
    {
      "cell_type": "code",
      "source": [
        "# Using countplot function\n",
        "countplot(data = df[['hotel','adults']], x = 'adults', hue = 'hotel', title = 'Hotelwise group data of adults booking')"
      ],
      "metadata": {
        "colab": {
          "base_uri": "https://localhost:8080/",
          "height": 352
        },
        "id": "-sRn0W3TPv9F",
        "outputId": "201cd9d6-76f8-4622-9686-4674cc3bf203"
      },
      "execution_count": 69,
      "outputs": [
        {
          "output_type": "display_data",
          "data": {
            "text/plain": [
              "<Figure size 360x360 with 1 Axes>"
            ],
            "image/png": "[encoded data removed]"
          },
          "metadata": {
            "needs_background": "light"
          }
        }
      ]
    },
    {
      "cell_type": "code",
      "source": [
        "df_adults = df.groupby(['hotel'])['adults'].sum()\n",
        "plt.rcParams['figure.figsize'] = 20, 5\n",
        "\n",
        "plt.subplot(1,3,1)\n",
        "countplot(data = df[['hotel','adults']], x = 'adults', hue = 'hotel', title = 'Hotelwise group data of adults booking')\n",
        "plt.title('Bookingwise adults count for individual hotels')\n",
        "\n",
        "plt.subplot(1,3,2)\n",
        "sns.barplot(x = df_adults.index, y = df_adults.values)\n",
        "plt.title('Total adults arrived at individual hotels')\n",
        "\n",
        "plt.subplot(1,3,3)\n",
        "plt.pie(df_adults, labels=df_adults.index, autopct='%1.1f%%',startangle=90)\n",
        "plt.title('Percentage of adults arrived at individual hotels')\n",
        "plt.show()"
      ],
      "metadata": {
        "colab": {
          "base_uri": "https://localhost:8080/",
          "height": 684
        },
        "id": "rjKOavtCWaPS",
        "outputId": "f948ce4c-2b1f-4b13-c93c-16c012c73b32"
      },
      "execution_count": 112,
      "outputs": [
        {
          "output_type": "display_data",
          "data": {
            "text/plain": [
              "<Figure size 1440x360 with 1 Axes>"
            ],
            "image/png": "[encoded data removed]"
          },
          "metadata": {
            "needs_background": "light"
          }
        },
        {
          "output_type": "display_data",
          "data": {
            "text/plain": [
              "<Figure size 1440x360 with 2 Axes>"
            ],
            "image/png": "[encoded data removed]"
          },
          "metadata": {
            "needs_background": "light"
          }
        }
      ]
    },
    {
      "cell_type": "code",
      "source": [
        "df_adults = df.groupby(['hotel'])['adults'].sum()\n",
        "plt.rcParams['figure.figsize'] = 15, 5\n",
        "plt.subplot(1,2,1)\n",
        "sns.barplot(x = df_adults.index, y = df_adults.values)\n",
        "plt.title('Total adults arrived at individual hotels')\n",
        "\n",
        "plt.subplot(1,2,2)\n",
        "plt.pie(df_adults, labels=df_adults.index, autopct='%1.1f%%',startangle=90, textprops={'fontsize': 14})\n",
        "plt.title('Percentage of adults arrived at individual hotels')"
      ],
      "metadata": {
        "colab": {
          "base_uri": "https://localhost:8080/",
          "height": 367
        },
        "id": "0ECnoI6pSFkP",
        "outputId": "3b289d3c-54f9-45e6-fa58-f7b6edf39100"
      },
      "execution_count": 102,
      "outputs": [
        {
          "output_type": "execute_result",
          "data": {
            "text/plain": [
              "Text(0.5, 1.0, 'Percentage of adults arrived at individual hotels')"
            ]
          },
          "metadata": {},
          "execution_count": 102
        },
        {
          "output_type": "display_data",
          "data": {
            "text/plain": [
              "<Figure size 1080x360 with 2 Axes>"
            ],
            "image/png": "[encoded data removed]"
          },
          "metadata": {
            "needs_background": "light"
          }
        }
      ]
    },
    {
      "cell_type": "code",
      "source": [
        "hotel_children = df_nonull.groupby(['hotel'])['children']\n",
        "hotel_children.describe()"
      ],
      "metadata": {
        "colab": {
          "base_uri": "https://localhost:8080/",
          "height": 143
        },
        "id": "1yPliz_ikt40",
        "outputId": "8499a7a0-39e9-4a3c-c3ea-f0aa1121e764"
      },
      "execution_count": null,
      "outputs": [
        {
          "output_type": "execute_result",
          "data": {
            "text/plain": [
              "                count      mean       std  min  25%  50%  75%   max\n",
              "hotel                                                              \n",
              "City Hotel    79302.0  0.091397  0.372230  0.0  0.0  0.0  0.0   3.0\n",
              "Resort Hotel  39596.0  0.129862  0.447192  0.0  0.0  0.0  0.0  10.0"
            ],
            "text/html": [
              "\n",
              "  <div id=\"df-2bd5dba9-1636-470d-b097-c3e4ed8178db\">\n",
              "    <div class=\"colab-df-container\">\n",
              "      <div>\n",
              "<style scoped>\n",
              "    .dataframe tbody tr th:only-of-type {\n",
              "        vertical-align: middle;\n",
              "    }\n",
              "\n",
              "    .dataframe tbody tr th {\n",
              "        vertical-align: top;\n",
              "    }\n",
              "\n",
              "    .dataframe thead th {\n",
              "        text-align: right;\n",
              "    }\n",
              "</style>\n",
              "<table border=\"1\" class=\"dataframe\">\n",
              "  <thead>\n",
              "    <tr style=\"text-align: right;\">\n",
              "      <th></th>\n",
              "      <th>count</th>\n",
              "      <th>mean</th>\n",
              "      <th>std</th>\n",
              "      <th>min</th>\n",
              "      <th>25%</th>\n",
              "      <th>50%</th>\n",
              "      <th>75%</th>\n",
              "      <th>max</th>\n",
              "    </tr>\n",
              "    <tr>\n",
              "      <th>hotel</th>\n",
              "      <th></th>\n",
              "      <th></th>\n",
              "      <th></th>\n",
              "      <th></th>\n",
              "      <th></th>\n",
              "      <th></th>\n",
              "      <th></th>\n",
              "      <th></th>\n",
              "    </tr>\n",
              "  </thead>\n",
              "  <tbody>\n",
              "    <tr>\n",
              "      <th>City Hotel</th>\n",
              "      <td>79302.0</td>\n",
              "      <td>0.091397</td>\n",
              "      <td>0.372230</td>\n",
              "      <td>0.0</td>\n",
              "      <td>0.0</td>\n",
              "      <td>0.0</td>\n",
              "      <td>0.0</td>\n",
              "      <td>3.0</td>\n",
              "    </tr>\n",
              "    <tr>\n",
              "      <th>Resort Hotel</th>\n",
              "      <td>39596.0</td>\n",
              "      <td>0.129862</td>\n",
              "      <td>0.447192</td>\n",
              "      <td>0.0</td>\n",
              "      <td>0.0</td>\n",
              "      <td>0.0</td>\n",
              "      <td>0.0</td>\n",
              "      <td>10.0</td>\n",
              "    </tr>\n",
              "  </tbody>\n",
              "</table>\n",
              "</div>\n",
              "      <button class=\"colab-df-convert\" onclick=\"convertToInteractive('df-2bd5dba9-1636-470d-b097-c3e4ed8178db')\"\n",
              "              title=\"Convert this dataframe to an interactive table.\"\n",
              "              style=\"display:none;\">\n",
              "        \n",
              "  <svg xmlns=\"http://www.w3.org/2000/svg\" height=\"24px\"viewBox=\"0 0 24 24\"\n",
              "       width=\"24px\">\n",
              "    <path d=\"M0 0h24v24H0V0z\" fill=\"none\"/>\n",
              "    <path d=\"M18.56 5.44l.94 2.06.94-2.06 2.06-.94-2.06-.94-.94-2.06-.94 2.06-2.06.94zm-11 1L8.5 8.5l.94-2.06 2.06-.94-2.06-.94L8.5 2.5l-.94 2.06-2.06.94zm10 10l.94 2.06.94-2.06 2.06-.94-2.06-.94-.94-2.06-.94 2.06-2.06.94z\"/><path d=\"M17.41 7.96l-1.37-1.37c-.4-.4-.92-.59-1.43-.59-.52 0-1.04.2-1.43.59L10.3 9.45l-7.72 7.72c-.78.78-.78 2.05 0 2.83L4 21.41c.39.39.9.59 1.41.59.51 0 1.02-.2 1.41-.59l7.78-7.78 2.81-2.81c.8-.78.8-2.07 0-2.86zM5.41 20L4 18.59l7.72-7.72 1.47 1.35L5.41 20z\"/>\n",
              "  </svg>\n",
              "      </button>\n",
              "      \n",
              "  <style>\n",
              "    .colab-df-container {\n",
              "      display:flex;\n",
              "      flex-wrap:wrap;\n",
              "      gap: 12px;\n",
              "    }\n",
              "\n",
              "    .colab-df-convert {\n",
              "      background-color: #E8F0FE;\n",
              "      border: none;\n",
              "      border-radius: 50%;\n",
              "      cursor: pointer;\n",
              "      display: none;\n",
              "      fill: #1967D2;\n",
              "      height: 32px;\n",
              "      padding: 0 0 0 0;\n",
              "      width: 32px;\n",
              "    }\n",
              "\n",
              "    .colab-df-convert:hover {\n",
              "      background-color: #E2EBFA;\n",
              "      box-shadow: 0px 1px 2px rgba(60, 64, 67, 0.3), 0px 1px 3px 1px rgba(60, 64, 67, 0.15);\n",
              "      fill: #174EA6;\n",
              "    }\n",
              "\n",
              "    [theme=dark] .colab-df-convert {\n",
              "      background-color: #3B4455;\n",
              "      fill: #D2E3FC;\n",
              "    }\n",
              "\n",
              "    [theme=dark] .colab-df-convert:hover {\n",
              "      background-color: #434B5C;\n",
              "      box-shadow: 0px 1px 3px 1px rgba(0, 0, 0, 0.15);\n",
              "      filter: drop-shadow(0px 1px 2px rgba(0, 0, 0, 0.3));\n",
              "      fill: #FFFFFF;\n",
              "    }\n",
              "  </style>\n",
              "\n",
              "      <script>\n",
              "        const buttonEl =\n",
              "          document.querySelector('#df-2bd5dba9-1636-470d-b097-c3e4ed8178db button.colab-df-convert');\n",
              "        buttonEl.style.display =\n",
              "          google.colab.kernel.accessAllowed ? 'block' : 'none';\n",
              "\n",
              "        async function convertToInteractive(key) {\n",
              "          const element = document.querySelector('#df-2bd5dba9-1636-470d-b097-c3e4ed8178db');\n",
              "          const dataTable =\n",
              "            await google.colab.kernel.invokeFunction('convertToInteractive',\n",
              "                                                     [key], {});\n",
              "          if (!dataTable) return;\n",
              "\n",
              "          const docLinkHtml = 'Like what you see? Visit the ' +\n",
              "            '<a target=\"_blank\" href=https://colab.research.google.com/notebooks/data_table.ipynb>data table notebook</a>'\n",
              "            + ' to learn more about interactive tables.';\n",
              "          element.innerHTML = '';\n",
              "          dataTable['output_type'] = 'display_data';\n",
              "          await google.colab.output.renderOutput(dataTable, element);\n",
              "          const docLink = document.createElement('div');\n",
              "          docLink.innerHTML = docLinkHtml;\n",
              "          element.appendChild(docLink);\n",
              "        }\n",
              "      </script>\n",
              "    </div>\n",
              "  </div>\n",
              "  "
            ]
          },
          "metadata": {},
          "execution_count": 194
        }
      ]
    },
    {
      "cell_type": "code",
      "source": [
        "# Plotting the data for adults based on the number of children per booking.\n",
        "hotel_children.value_counts().plot(kind = 'bar', color = ['lightblue', 'maroon'])"
      ],
      "metadata": {
        "colab": {
          "base_uri": "https://localhost:8080/",
          "height": 710
        },
        "id": "62uEjtQzkKbe",
        "outputId": "cbfa7409-a0d1-4dfa-c05a-569330b7ea70"
      },
      "execution_count": null,
      "outputs": [
        {
          "output_type": "execute_result",
          "data": {
            "text/plain": [
              "<matplotlib.axes._subplots.AxesSubplot at 0x7f14b76b5710>"
            ]
          },
          "metadata": {},
          "execution_count": 195
        },
        {
          "output_type": "display_data",
          "data": {
            "text/plain": [
              "<Figure size 720x720 with 1 Axes>"
            ],
            "image/png": "[encoded data removed]"
          },
          "metadata": {
            "needs_background": "light"
          }
        }
      ]
    },
    {
      "cell_type": "code",
      "source": [
        "# Replacement of above graph\n",
        "list_hotel_children = ['hotel','children']\n",
        "children_df_list = df_nonull[list_hotel_children]\n",
        "sns.countplot(data = children_df_list, x = 'children', hue = 'hotel')\n",
        "plt.legend(loc='upper right')"
      ],
      "metadata": {
        "colab": {
          "base_uri": "https://localhost:8080/",
          "height": 623
        },
        "id": "8Lqg-vHx_xcU",
        "outputId": "da26ab70-a627-447a-ca90-24ce6e4016ac"
      },
      "execution_count": null,
      "outputs": [
        {
          "output_type": "execute_result",
          "data": {
            "text/plain": [
              "<matplotlib.legend.Legend at 0x7f14b76cd410>"
            ]
          },
          "metadata": {},
          "execution_count": 196
        },
        {
          "output_type": "display_data",
          "data": {
            "text/plain": [
              "<Figure size 720x720 with 1 Axes>"
            ],
            "image/png": "[encoded data removed]"
          },
          "metadata": {
            "needs_background": "light"
          }
        }
      ]
    },
    {
      "cell_type": "code",
      "source": [
        "hotel_babies = df_nonull.groupby(['hotel'])['babies']\n",
        "hotel_babies.describe()"
      ],
      "metadata": {
        "colab": {
          "base_uri": "https://localhost:8080/",
          "height": 143
        },
        "id": "JyXtnYIOkvJy",
        "outputId": "7629c142-937f-4d02-c8c9-284418bd4857"
      },
      "execution_count": null,
      "outputs": [
        {
          "output_type": "execute_result",
          "data": {
            "text/plain": [
              "                count      mean       std  min  25%  50%  75%   max\n",
              "hotel                                                              \n",
              "City Hotel    79302.0  0.004943  0.084338  0.0  0.0  0.0  0.0  10.0\n",
              "Resort Hotel  39596.0  0.013966  0.119061  0.0  0.0  0.0  0.0   2.0"
            ],
            "text/html": [
              "\n",
              "  <div id=\"df-8fd25c0d-ae19-4c72-8ffd-99ffdb73b21c\">\n",
              "    <div class=\"colab-df-container\">\n",
              "      <div>\n",
              "<style scoped>\n",
              "    .dataframe tbody tr th:only-of-type {\n",
              "        vertical-align: middle;\n",
              "    }\n",
              "\n",
              "    .dataframe tbody tr th {\n",
              "        vertical-align: top;\n",
              "    }\n",
              "\n",
              "    .dataframe thead th {\n",
              "        text-align: right;\n",
              "    }\n",
              "</style>\n",
              "<table border=\"1\" class=\"dataframe\">\n",
              "  <thead>\n",
              "    <tr style=\"text-align: right;\">\n",
              "      <th></th>\n",
              "      <th>count</th>\n",
              "      <th>mean</th>\n",
              "      <th>std</th>\n",
              "      <th>min</th>\n",
              "      <th>25%</th>\n",
              "      <th>50%</th>\n",
              "      <th>75%</th>\n",
              "      <th>max</th>\n",
              "    </tr>\n",
              "    <tr>\n",
              "      <th>hotel</th>\n",
              "      <th></th>\n",
              "      <th></th>\n",
              "      <th></th>\n",
              "      <th></th>\n",
              "      <th></th>\n",
              "      <th></th>\n",
              "      <th></th>\n",
              "      <th></th>\n",
              "    </tr>\n",
              "  </thead>\n",
              "  <tbody>\n",
              "    <tr>\n",
              "      <th>City Hotel</th>\n",
              "      <td>79302.0</td>\n",
              "      <td>0.004943</td>\n",
              "      <td>0.084338</td>\n",
              "      <td>0.0</td>\n",
              "      <td>0.0</td>\n",
              "      <td>0.0</td>\n",
              "      <td>0.0</td>\n",
              "      <td>10.0</td>\n",
              "    </tr>\n",
              "    <tr>\n",
              "      <th>Resort Hotel</th>\n",
              "      <td>39596.0</td>\n",
              "      <td>0.013966</td>\n",
              "      <td>0.119061</td>\n",
              "      <td>0.0</td>\n",
              "      <td>0.0</td>\n",
              "      <td>0.0</td>\n",
              "      <td>0.0</td>\n",
              "      <td>2.0</td>\n",
              "    </tr>\n",
              "  </tbody>\n",
              "</table>\n",
              "</div>\n",
              "      <button class=\"colab-df-convert\" onclick=\"convertToInteractive('df-8fd25c0d-ae19-4c72-8ffd-99ffdb73b21c')\"\n",
              "              title=\"Convert this dataframe to an interactive table.\"\n",
              "              style=\"display:none;\">\n",
              "        \n",
              "  <svg xmlns=\"http://www.w3.org/2000/svg\" height=\"24px\"viewBox=\"0 0 24 24\"\n",
              "       width=\"24px\">\n",
              "    <path d=\"M0 0h24v24H0V0z\" fill=\"none\"/>\n",
              "    <path d=\"M18.56 5.44l.94 2.06.94-2.06 2.06-.94-2.06-.94-.94-2.06-.94 2.06-2.06.94zm-11 1L8.5 8.5l.94-2.06 2.06-.94-2.06-.94L8.5 2.5l-.94 2.06-2.06.94zm10 10l.94 2.06.94-2.06 2.06-.94-2.06-.94-.94-2.06-.94 2.06-2.06.94z\"/><path d=\"M17.41 7.96l-1.37-1.37c-.4-.4-.92-.59-1.43-.59-.52 0-1.04.2-1.43.59L10.3 9.45l-7.72 7.72c-.78.78-.78 2.05 0 2.83L4 21.41c.39.39.9.59 1.41.59.51 0 1.02-.2 1.41-.59l7.78-7.78 2.81-2.81c.8-.78.8-2.07 0-2.86zM5.41 20L4 18.59l7.72-7.72 1.47 1.35L5.41 20z\"/>\n",
              "  </svg>\n",
              "      </button>\n",
              "      \n",
              "  <style>\n",
              "    .colab-df-container {\n",
              "      display:flex;\n",
              "      flex-wrap:wrap;\n",
              "      gap: 12px;\n",
              "    }\n",
              "\n",
              "    .colab-df-convert {\n",
              "      background-color: #E8F0FE;\n",
              "      border: none;\n",
              "      border-radius: 50%;\n",
              "      cursor: pointer;\n",
              "      display: none;\n",
              "      fill: #1967D2;\n",
              "      height: 32px;\n",
              "      padding: 0 0 0 0;\n",
              "      width: 32px;\n",
              "    }\n",
              "\n",
              "    .colab-df-convert:hover {\n",
              "      background-color: #E2EBFA;\n",
              "      box-shadow: 0px 1px 2px rgba(60, 64, 67, 0.3), 0px 1px 3px 1px rgba(60, 64, 67, 0.15);\n",
              "      fill: #174EA6;\n",
              "    }\n",
              "\n",
              "    [theme=dark] .colab-df-convert {\n",
              "      background-color: #3B4455;\n",
              "      fill: #D2E3FC;\n",
              "    }\n",
              "\n",
              "    [theme=dark] .colab-df-convert:hover {\n",
              "      background-color: #434B5C;\n",
              "      box-shadow: 0px 1px 3px 1px rgba(0, 0, 0, 0.15);\n",
              "      filter: drop-shadow(0px 1px 2px rgba(0, 0, 0, 0.3));\n",
              "      fill: #FFFFFF;\n",
              "    }\n",
              "  </style>\n",
              "\n",
              "      <script>\n",
              "        const buttonEl =\n",
              "          document.querySelector('#df-8fd25c0d-ae19-4c72-8ffd-99ffdb73b21c button.colab-df-convert');\n",
              "        buttonEl.style.display =\n",
              "          google.colab.kernel.accessAllowed ? 'block' : 'none';\n",
              "\n",
              "        async function convertToInteractive(key) {\n",
              "          const element = document.querySelector('#df-8fd25c0d-ae19-4c72-8ffd-99ffdb73b21c');\n",
              "          const dataTable =\n",
              "            await google.colab.kernel.invokeFunction('convertToInteractive',\n",
              "                                                     [key], {});\n",
              "          if (!dataTable) return;\n",
              "\n",
              "          const docLinkHtml = 'Like what you see? Visit the ' +\n",
              "            '<a target=\"_blank\" href=https://colab.research.google.com/notebooks/data_table.ipynb>data table notebook</a>'\n",
              "            + ' to learn more about interactive tables.';\n",
              "          element.innerHTML = '';\n",
              "          dataTable['output_type'] = 'display_data';\n",
              "          await google.colab.output.renderOutput(dataTable, element);\n",
              "          const docLink = document.createElement('div');\n",
              "          docLink.innerHTML = docLinkHtml;\n",
              "          element.appendChild(docLink);\n",
              "        }\n",
              "      </script>\n",
              "    </div>\n",
              "  </div>\n",
              "  "
            ]
          },
          "metadata": {},
          "execution_count": 197
        }
      ]
    },
    {
      "cell_type": "code",
      "source": [
        "# Plotting the data for adults based on the number of babies per booking.\n",
        "hotel_babies.value_counts().plot(kind = 'bar', color = ['lightblue', 'maroon'])"
      ],
      "metadata": {
        "colab": {
          "base_uri": "https://localhost:8080/",
          "height": 694
        },
        "id": "wVrqnabqkQ5E",
        "outputId": "74612201-4a22-4135-e2cb-cb38379188cd"
      },
      "execution_count": null,
      "outputs": [
        {
          "output_type": "execute_result",
          "data": {
            "text/plain": [
              "<matplotlib.axes._subplots.AxesSubplot at 0x7f14b753fd90>"
            ]
          },
          "metadata": {},
          "execution_count": 198
        },
        {
          "output_type": "display_data",
          "data": {
            "text/plain": [
              "<Figure size 720x720 with 1 Axes>"
            ],
            "image/png": "[encoded data removed]"
          },
          "metadata": {
            "needs_background": "light"
          }
        }
      ]
    },
    {
      "cell_type": "code",
      "source": [
        "# Replacement of above graph\n",
        "list_hotel_babies = ['hotel','babies']\n",
        "babies_df_list = df_nonull[list_hotel_babies]\n",
        "sns.countplot(data = babies_df_list, x = 'babies', hue = 'hotel')\n",
        "plt.legend(loc='upper right')"
      ],
      "metadata": {
        "colab": {
          "base_uri": "https://localhost:8080/",
          "height": 623
        },
        "id": "4Y8ySYOA_5e1",
        "outputId": "e2e92b6c-341f-4e8f-a8b4-62f75744513f"
      },
      "execution_count": null,
      "outputs": [
        {
          "output_type": "execute_result",
          "data": {
            "text/plain": [
              "<matplotlib.legend.Legend at 0x7f14b7500550>"
            ]
          },
          "metadata": {},
          "execution_count": 199
        },
        {
          "output_type": "display_data",
          "data": {
            "text/plain": [
              "<Figure size 720x720 with 1 Axes>"
            ],
            "image/png": "[encoded data removed]"
          },
          "metadata": {
            "needs_background": "light"
          }
        }
      ]
    },
    {
      "cell_type": "markdown",
      "source": [
        "The above bar chart is a bit off to visualize the data. Hence, need to plot a different type of graph which might be self explanatory."
      ],
      "metadata": {
        "id": "Y7DDuUjqkh0B"
      }
    },
    {
      "cell_type": "markdown",
      "source": [
        "**Now, let's have a look at the cancelled booking.**"
      ],
      "metadata": {
        "id": "o-G9nWqK04nu"
      }
    },
    {
      "cell_type": "code",
      "source": [
        "# Analysing the cancelled bookings:\n",
        "cancellation_data = df_nonull['is_canceled']\n",
        "cancellation_data\n",
        "\n",
        "# Plotting the count plot of this using seaborn's count plot feature\n",
        "cancellation_data.value_counts().plot(kind = 'bar', color = ['lightblue', 'maroon'])\n",
        "\n",
        "# Here, 0 means Not Cancelled while 1 means Cancelled."
      ],
      "metadata": {
        "id": "UY1r7zaXrxwv",
        "colab": {
          "base_uri": "https://localhost:8080/",
          "height": 605
        },
        "outputId": "41983a58-f5a8-4db2-c5ff-3440e20ad9da"
      },
      "execution_count": null,
      "outputs": [
        {
          "output_type": "execute_result",
          "data": {
            "text/plain": [
              "<matplotlib.axes._subplots.AxesSubplot at 0x7f14b75160d0>"
            ]
          },
          "metadata": {},
          "execution_count": 200
        },
        {
          "output_type": "display_data",
          "data": {
            "text/plain": [
              "<Figure size 720x720 with 1 Axes>"
            ],
            "image/png": "[encoded data removed]"
          },
          "metadata": {
            "needs_background": "light"
          }
        }
      ]
    },
    {
      "cell_type": "markdown",
      "source": [
        "From the above graph it is evident that the about 4000+ bookings were cancelled. We can not plot a pie chart to view the percentage of it as well."
      ],
      "metadata": {
        "id": "OuYnnf61KjSm"
      }
    },
    {
      "cell_type": "code",
      "source": [
        "# Plotting the pie chart to view percentage of cancellation.\n",
        "plt.rcParams['figure.figsize'] = 10,10\n",
        "labels = cancellation_data.value_counts().index.tolist()\n",
        "sizes = cancellation_data.value_counts().tolist()\n",
        "explode = [0,0.1]\n",
        "colors = ['lightgreen','yellow']\n",
        "plt.pie(sizes, labels = labels, colors=colors, explode = explode, autopct='%1.1f%%',startangle=90, textprops={'fontsize': 14})"
      ],
      "metadata": {
        "colab": {
          "base_uri": "https://localhost:8080/",
          "height": 678
        },
        "id": "s2MG4Yv1KwCX",
        "outputId": "46d71806-cef2-442f-8d68-3ab835155fcb"
      },
      "execution_count": null,
      "outputs": [
        {
          "output_type": "execute_result",
          "data": {
            "text/plain": [
              "([<matplotlib.patches.Wedge at 0x7f14b8b7de90>,\n",
              "  <matplotlib.patches.Wedge at 0x7f14b8b70250>],\n",
              " [Text(-1.0113763824572926, -0.4325711652521476, '0'),\n",
              "  Text(1.1033196457713303, 0.47189591993894836, '1')],\n",
              " [Text(-0.551659844976705, -0.23594790831935322, '62.9%'),\n",
              "  Text(0.6436031266999426, 0.2752726199643865, '37.1%')])"
            ]
          },
          "metadata": {},
          "execution_count": 201
        },
        {
          "output_type": "display_data",
          "data": {
            "text/plain": [
              "<Figure size 720x720 with 1 Axes>"
            ],
            "image/png": "[encoded data removed]"
          },
          "metadata": {}
        }
      ]
    },
    {
      "cell_type": "markdown",
      "source": [
        "So, this indicates that 37.1 % of the bookings were cancelled.\n",
        "Note: Here we have replaced the values of 0 and 1 by Cancelled and Not Cancelled. This is done manually at the graph level. In case of change in order by mistake, it would be misleading. Hence, it is preferable to replace the values of 0 and 1 by the respective values."
      ],
      "metadata": {
        "id": "fpY2xhZfNkul"
      }
    },
    {
      "cell_type": "markdown",
      "source": [
        "To further this, we can have a look at the cancellation for individual hotels. Hence, group by the data and complete the task."
      ],
      "metadata": {
        "id": "rm6IKktROPAX"
      }
    },
    {
      "cell_type": "code",
      "source": [
        "# Analysing the data for individual hotels\n",
        "cancellation_data_hotelwise = df_nonull.groupby(['hotel'])['is_canceled']\n",
        "cancellation_data_hotelwise.describe()"
      ],
      "metadata": {
        "colab": {
          "base_uri": "https://localhost:8080/",
          "height": 143
        },
        "id": "pi-03zymOFx-",
        "outputId": "b2a5ba41-401f-4537-eea6-79e8fed4724b"
      },
      "execution_count": null,
      "outputs": [
        {
          "output_type": "execute_result",
          "data": {
            "text/plain": [
              "                count      mean       std  min  25%  50%  75%  max\n",
              "hotel                                                             \n",
              "City Hotel    79302.0  0.417089  0.493081  0.0  0.0  0.0  1.0  1.0\n",
              "Resort Hotel  39596.0  0.279750  0.448882  0.0  0.0  0.0  1.0  1.0"
            ],
            "text/html": [
              "\n",
              "  <div id=\"df-3b7a7b90-58fc-470e-8937-112114799658\">\n",
              "    <div class=\"colab-df-container\">\n",
              "      <div>\n",
              "<style scoped>\n",
              "    .dataframe tbody tr th:only-of-type {\n",
              "        vertical-align: middle;\n",
              "    }\n",
              "\n",
              "    .dataframe tbody tr th {\n",
              "        vertical-align: top;\n",
              "    }\n",
              "\n",
              "    .dataframe thead th {\n",
              "        text-align: right;\n",
              "    }\n",
              "</style>\n",
              "<table border=\"1\" class=\"dataframe\">\n",
              "  <thead>\n",
              "    <tr style=\"text-align: right;\">\n",
              "      <th></th>\n",
              "      <th>count</th>\n",
              "      <th>mean</th>\n",
              "      <th>std</th>\n",
              "      <th>min</th>\n",
              "      <th>25%</th>\n",
              "      <th>50%</th>\n",
              "      <th>75%</th>\n",
              "      <th>max</th>\n",
              "    </tr>\n",
              "    <tr>\n",
              "      <th>hotel</th>\n",
              "      <th></th>\n",
              "      <th></th>\n",
              "      <th></th>\n",
              "      <th></th>\n",
              "      <th></th>\n",
              "      <th></th>\n",
              "      <th></th>\n",
              "      <th></th>\n",
              "    </tr>\n",
              "  </thead>\n",
              "  <tbody>\n",
              "    <tr>\n",
              "      <th>City Hotel</th>\n",
              "      <td>79302.0</td>\n",
              "      <td>0.417089</td>\n",
              "      <td>0.493081</td>\n",
              "      <td>0.0</td>\n",
              "      <td>0.0</td>\n",
              "      <td>0.0</td>\n",
              "      <td>1.0</td>\n",
              "      <td>1.0</td>\n",
              "    </tr>\n",
              "    <tr>\n",
              "      <th>Resort Hotel</th>\n",
              "      <td>39596.0</td>\n",
              "      <td>0.279750</td>\n",
              "      <td>0.448882</td>\n",
              "      <td>0.0</td>\n",
              "      <td>0.0</td>\n",
              "      <td>0.0</td>\n",
              "      <td>1.0</td>\n",
              "      <td>1.0</td>\n",
              "    </tr>\n",
              "  </tbody>\n",
              "</table>\n",
              "</div>\n",
              "      <button class=\"colab-df-convert\" onclick=\"convertToInteractive('df-3b7a7b90-58fc-470e-8937-112114799658')\"\n",
              "              title=\"Convert this dataframe to an interactive table.\"\n",
              "              style=\"display:none;\">\n",
              "        \n",
              "  <svg xmlns=\"http://www.w3.org/2000/svg\" height=\"24px\"viewBox=\"0 0 24 24\"\n",
              "       width=\"24px\">\n",
              "    <path d=\"M0 0h24v24H0V0z\" fill=\"none\"/>\n",
              "    <path d=\"M18.56 5.44l.94 2.06.94-2.06 2.06-.94-2.06-.94-.94-2.06-.94 2.06-2.06.94zm-11 1L8.5 8.5l.94-2.06 2.06-.94-2.06-.94L8.5 2.5l-.94 2.06-2.06.94zm10 10l.94 2.06.94-2.06 2.06-.94-2.06-.94-.94-2.06-.94 2.06-2.06.94z\"/><path d=\"M17.41 7.96l-1.37-1.37c-.4-.4-.92-.59-1.43-.59-.52 0-1.04.2-1.43.59L10.3 9.45l-7.72 7.72c-.78.78-.78 2.05 0 2.83L4 21.41c.39.39.9.59 1.41.59.51 0 1.02-.2 1.41-.59l7.78-7.78 2.81-2.81c.8-.78.8-2.07 0-2.86zM5.41 20L4 18.59l7.72-7.72 1.47 1.35L5.41 20z\"/>\n",
              "  </svg>\n",
              "      </button>\n",
              "      \n",
              "  <style>\n",
              "    .colab-df-container {\n",
              "      display:flex;\n",
              "      flex-wrap:wrap;\n",
              "      gap: 12px;\n",
              "    }\n",
              "\n",
              "    .colab-df-convert {\n",
              "      background-color: #E8F0FE;\n",
              "      border: none;\n",
              "      border-radius: 50%;\n",
              "      cursor: pointer;\n",
              "      display: none;\n",
              "      fill: #1967D2;\n",
              "      height: 32px;\n",
              "      padding: 0 0 0 0;\n",
              "      width: 32px;\n",
              "    }\n",
              "\n",
              "    .colab-df-convert:hover {\n",
              "      background-color: #E2EBFA;\n",
              "      box-shadow: 0px 1px 2px rgba(60, 64, 67, 0.3), 0px 1px 3px 1px rgba(60, 64, 67, 0.15);\n",
              "      fill: #174EA6;\n",
              "    }\n",
              "\n",
              "    [theme=dark] .colab-df-convert {\n",
              "      background-color: #3B4455;\n",
              "      fill: #D2E3FC;\n",
              "    }\n",
              "\n",
              "    [theme=dark] .colab-df-convert:hover {\n",
              "      background-color: #434B5C;\n",
              "      box-shadow: 0px 1px 3px 1px rgba(0, 0, 0, 0.15);\n",
              "      filter: drop-shadow(0px 1px 2px rgba(0, 0, 0, 0.3));\n",
              "      fill: #FFFFFF;\n",
              "    }\n",
              "  </style>\n",
              "\n",
              "      <script>\n",
              "        const buttonEl =\n",
              "          document.querySelector('#df-3b7a7b90-58fc-470e-8937-112114799658 button.colab-df-convert');\n",
              "        buttonEl.style.display =\n",
              "          google.colab.kernel.accessAllowed ? 'block' : 'none';\n",
              "\n",
              "        async function convertToInteractive(key) {\n",
              "          const element = document.querySelector('#df-3b7a7b90-58fc-470e-8937-112114799658');\n",
              "          const dataTable =\n",
              "            await google.colab.kernel.invokeFunction('convertToInteractive',\n",
              "                                                     [key], {});\n",
              "          if (!dataTable) return;\n",
              "\n",
              "          const docLinkHtml = 'Like what you see? Visit the ' +\n",
              "            '<a target=\"_blank\" href=https://colab.research.google.com/notebooks/data_table.ipynb>data table notebook</a>'\n",
              "            + ' to learn more about interactive tables.';\n",
              "          element.innerHTML = '';\n",
              "          dataTable['output_type'] = 'display_data';\n",
              "          await google.colab.output.renderOutput(dataTable, element);\n",
              "          const docLink = document.createElement('div');\n",
              "          docLink.innerHTML = docLinkHtml;\n",
              "          element.appendChild(docLink);\n",
              "        }\n",
              "      </script>\n",
              "    </div>\n",
              "  </div>\n",
              "  "
            ]
          },
          "metadata": {},
          "execution_count": 202
        }
      ]
    },
    {
      "cell_type": "code",
      "source": [
        "cancellation_data_hotelwise.value_counts().plot(kind = 'bar', color = ['lightblue', 'maroon'])\n",
        "# Here, we need to replace the value of 0 and 1 by not - çancelled and cancelled respectively.\n",
        "# This might be difficult with the groupby function hence, may be we can make a list of these two columns and proceed."
      ],
      "metadata": {
        "colab": {
          "base_uri": "https://localhost:8080/",
          "height": 695
        },
        "id": "AiGjmLN6POHR",
        "outputId": "a18eb3a2-cb37-47b3-a074-da984b9f6125"
      },
      "execution_count": null,
      "outputs": [
        {
          "output_type": "execute_result",
          "data": {
            "text/plain": [
              "<matplotlib.axes._subplots.AxesSubplot at 0x7f14b8ad4e90>"
            ]
          },
          "metadata": {},
          "execution_count": 203
        },
        {
          "output_type": "display_data",
          "data": {
            "text/plain": [
              "<Figure size 720x720 with 1 Axes>"
            ],
            "image/png": "[encoded data removed]"
          },
          "metadata": {
            "needs_background": "light"
          }
        }
      ]
    },
    {
      "cell_type": "code",
      "source": [
        "# Plotting the above data with new logic\n",
        "booking_cancellation = ['hotel','is_canceled']\n",
        "intermediate_list = df_nonull[booking_cancellation]\n",
        "sns.countplot(data = intermediate_list, x = 'is_canceled', hue = 'hotel')\n",
        "plt.legend(loc='upper right')"
      ],
      "metadata": {
        "colab": {
          "base_uri": "https://localhost:8080/",
          "height": 623
        },
        "id": "zWp_1yxcLe58",
        "outputId": "e654bf4e-933b-40d0-92c0-ceee9cf0477e"
      },
      "execution_count": null,
      "outputs": [
        {
          "output_type": "execute_result",
          "data": {
            "text/plain": [
              "<matplotlib.legend.Legend at 0x7f14b861fbd0>"
            ]
          },
          "metadata": {},
          "execution_count": 204
        },
        {
          "output_type": "display_data",
          "data": {
            "text/plain": [
              "<Figure size 720x720 with 1 Axes>"
            ],
            "image/png": "[encoded data removed]"
          },
          "metadata": {
            "needs_background": "light"
          }
        }
      ]
    },
    {
      "cell_type": "code",
      "source": [
        "# Plotting different columns for the cancelled and not cancelled data\n",
        "booking_cancellation = ['hotel','is_canceled']\n",
        "intermediate_list = df_nonull[booking_cancellation]\n",
        "new = intermediate_list.loc[(intermediate_list != 0).all(axis = 1)]\n",
        "sns.countplot(data = new, x = 'is_canceled', hue = 'hotel')\n",
        "plt.legend(loc='upper right')"
      ],
      "metadata": {
        "colab": {
          "base_uri": "https://localhost:8080/",
          "height": 623
        },
        "id": "XZaDmNGsMChC",
        "outputId": "9a7b3b13-d7b8-46c8-d6ee-282f2cbb4bf3"
      },
      "execution_count": null,
      "outputs": [
        {
          "output_type": "execute_result",
          "data": {
            "text/plain": [
              "<matplotlib.legend.Legend at 0x7f14b8464bd0>"
            ]
          },
          "metadata": {},
          "execution_count": 205
        },
        {
          "output_type": "display_data",
          "data": {
            "text/plain": [
              "<Figure size 720x720 with 1 Axes>"
            ],
            "image/png": "[encoded data removed]"
          },
          "metadata": {
            "needs_background": "light"
          }
        }
      ]
    },
    {
      "cell_type": "code",
      "source": [
        "# Trying to replace 0 and 1:\n",
        "temp_df = df_nonull.copy()\n",
        "booking_cancellation = ['hotel','is_canceled']\n",
        "temp_df.loc[temp_df['is_canceled'] == 0, 'is_canceled'] = 'Not Cancelled'\n",
        "temp_df.loc[temp_df['is_canceled'] == 1, 'is_canceled'] = 'Cancelled'\n",
        "intermediate_list = temp_df[booking_cancellation]\n",
        "new = intermediate_list.loc[(intermediate_list != 'Not Cancelled').all(axis = 1)]\n",
        "sns.countplot(data = new, x = 'is_canceled', hue = 'hotel')\n",
        "plt.legend(loc='upper right')"
      ],
      "metadata": {
        "colab": {
          "base_uri": "https://localhost:8080/",
          "height": 623
        },
        "id": "d26J_upDaD6U",
        "outputId": "b7f23b46-f3a5-456b-8d24-8ab7c4f2999a"
      },
      "execution_count": null,
      "outputs": [
        {
          "output_type": "execute_result",
          "data": {
            "text/plain": [
              "<matplotlib.legend.Legend at 0x7f14b7337e90>"
            ]
          },
          "metadata": {},
          "execution_count": 206
        },
        {
          "output_type": "display_data",
          "data": {
            "text/plain": [
              "<Figure size 720x720 with 1 Axes>"
            ],
            "image/png": "[encoded data removed]"
          },
          "metadata": {
            "needs_background": "light"
          }
        }
      ]
    },
    {
      "cell_type": "code",
      "source": [
        "# Previously Cancelled\n",
        "a111 = df_nonull[['hotel', 'previous_cancellations', 'previous_bookings_not_canceled']]\n",
        "a111.describe()"
      ],
      "metadata": {
        "colab": {
          "base_uri": "https://localhost:8080/",
          "height": 300
        },
        "id": "-nVygTkpyPOc",
        "outputId": "ccee7d3d-42da-42ac-fec1-8222609cef8b"
      },
      "execution_count": null,
      "outputs": [
        {
          "output_type": "execute_result",
          "data": {
            "text/plain": [
              "       previous_cancellations  previous_bookings_not_canceled\n",
              "count           118898.000000                   118898.000000\n",
              "mean                 0.087142                        0.131634\n",
              "std                  0.845869                        1.484672\n",
              "min                  0.000000                        0.000000\n",
              "25%                  0.000000                        0.000000\n",
              "50%                  0.000000                        0.000000\n",
              "75%                  0.000000                        0.000000\n",
              "max                 26.000000                       72.000000"
            ],
            "text/html": [
              "\n",
              "  <div id=\"df-a0684e25-8c5e-45dc-a1a4-6edb697bf49a\">\n",
              "    <div class=\"colab-df-container\">\n",
              "      <div>\n",
              "<style scoped>\n",
              "    .dataframe tbody tr th:only-of-type {\n",
              "        vertical-align: middle;\n",
              "    }\n",
              "\n",
              "    .dataframe tbody tr th {\n",
              "        vertical-align: top;\n",
              "    }\n",
              "\n",
              "    .dataframe thead th {\n",
              "        text-align: right;\n",
              "    }\n",
              "</style>\n",
              "<table border=\"1\" class=\"dataframe\">\n",
              "  <thead>\n",
              "    <tr style=\"text-align: right;\">\n",
              "      <th></th>\n",
              "      <th>previous_cancellations</th>\n",
              "      <th>previous_bookings_not_canceled</th>\n",
              "    </tr>\n",
              "  </thead>\n",
              "  <tbody>\n",
              "    <tr>\n",
              "      <th>count</th>\n",
              "      <td>118898.000000</td>\n",
              "      <td>118898.000000</td>\n",
              "    </tr>\n",
              "    <tr>\n",
              "      <th>mean</th>\n",
              "      <td>0.087142</td>\n",
              "      <td>0.131634</td>\n",
              "    </tr>\n",
              "    <tr>\n",
              "      <th>std</th>\n",
              "      <td>0.845869</td>\n",
              "      <td>1.484672</td>\n",
              "    </tr>\n",
              "    <tr>\n",
              "      <th>min</th>\n",
              "      <td>0.000000</td>\n",
              "      <td>0.000000</td>\n",
              "    </tr>\n",
              "    <tr>\n",
              "      <th>25%</th>\n",
              "      <td>0.000000</td>\n",
              "      <td>0.000000</td>\n",
              "    </tr>\n",
              "    <tr>\n",
              "      <th>50%</th>\n",
              "      <td>0.000000</td>\n",
              "      <td>0.000000</td>\n",
              "    </tr>\n",
              "    <tr>\n",
              "      <th>75%</th>\n",
              "      <td>0.000000</td>\n",
              "      <td>0.000000</td>\n",
              "    </tr>\n",
              "    <tr>\n",
              "      <th>max</th>\n",
              "      <td>26.000000</td>\n",
              "      <td>72.000000</td>\n",
              "    </tr>\n",
              "  </tbody>\n",
              "</table>\n",
              "</div>\n",
              "      <button class=\"colab-df-convert\" onclick=\"convertToInteractive('df-a0684e25-8c5e-45dc-a1a4-6edb697bf49a')\"\n",
              "              title=\"Convert this dataframe to an interactive table.\"\n",
              "              style=\"display:none;\">\n",
              "        \n",
              "  <svg xmlns=\"http://www.w3.org/2000/svg\" height=\"24px\"viewBox=\"0 0 24 24\"\n",
              "       width=\"24px\">\n",
              "    <path d=\"M0 0h24v24H0V0z\" fill=\"none\"/>\n",
              "    <path d=\"M18.56 5.44l.94 2.06.94-2.06 2.06-.94-2.06-.94-.94-2.06-.94 2.06-2.06.94zm-11 1L8.5 8.5l.94-2.06 2.06-.94-2.06-.94L8.5 2.5l-.94 2.06-2.06.94zm10 10l.94 2.06.94-2.06 2.06-.94-2.06-.94-.94-2.06-.94 2.06-2.06.94z\"/><path d=\"M17.41 7.96l-1.37-1.37c-.4-.4-.92-.59-1.43-.59-.52 0-1.04.2-1.43.59L10.3 9.45l-7.72 7.72c-.78.78-.78 2.05 0 2.83L4 21.41c.39.39.9.59 1.41.59.51 0 1.02-.2 1.41-.59l7.78-7.78 2.81-2.81c.8-.78.8-2.07 0-2.86zM5.41 20L4 18.59l7.72-7.72 1.47 1.35L5.41 20z\"/>\n",
              "  </svg>\n",
              "      </button>\n",
              "      \n",
              "  <style>\n",
              "    .colab-df-container {\n",
              "      display:flex;\n",
              "      flex-wrap:wrap;\n",
              "      gap: 12px;\n",
              "    }\n",
              "\n",
              "    .colab-df-convert {\n",
              "      background-color: #E8F0FE;\n",
              "      border: none;\n",
              "      border-radius: 50%;\n",
              "      cursor: pointer;\n",
              "      display: none;\n",
              "      fill: #1967D2;\n",
              "      height: 32px;\n",
              "      padding: 0 0 0 0;\n",
              "      width: 32px;\n",
              "    }\n",
              "\n",
              "    .colab-df-convert:hover {\n",
              "      background-color: #E2EBFA;\n",
              "      box-shadow: 0px 1px 2px rgba(60, 64, 67, 0.3), 0px 1px 3px 1px rgba(60, 64, 67, 0.15);\n",
              "      fill: #174EA6;\n",
              "    }\n",
              "\n",
              "    [theme=dark] .colab-df-convert {\n",
              "      background-color: #3B4455;\n",
              "      fill: #D2E3FC;\n",
              "    }\n",
              "\n",
              "    [theme=dark] .colab-df-convert:hover {\n",
              "      background-color: #434B5C;\n",
              "      box-shadow: 0px 1px 3px 1px rgba(0, 0, 0, 0.15);\n",
              "      filter: drop-shadow(0px 1px 2px rgba(0, 0, 0, 0.3));\n",
              "      fill: #FFFFFF;\n",
              "    }\n",
              "  </style>\n",
              "\n",
              "      <script>\n",
              "        const buttonEl =\n",
              "          document.querySelector('#df-a0684e25-8c5e-45dc-a1a4-6edb697bf49a button.colab-df-convert');\n",
              "        buttonEl.style.display =\n",
              "          google.colab.kernel.accessAllowed ? 'block' : 'none';\n",
              "\n",
              "        async function convertToInteractive(key) {\n",
              "          const element = document.querySelector('#df-a0684e25-8c5e-45dc-a1a4-6edb697bf49a');\n",
              "          const dataTable =\n",
              "            await google.colab.kernel.invokeFunction('convertToInteractive',\n",
              "                                                     [key], {});\n",
              "          if (!dataTable) return;\n",
              "\n",
              "          const docLinkHtml = 'Like what you see? Visit the ' +\n",
              "            '<a target=\"_blank\" href=https://colab.research.google.com/notebooks/data_table.ipynb>data table notebook</a>'\n",
              "            + ' to learn more about interactive tables.';\n",
              "          element.innerHTML = '';\n",
              "          dataTable['output_type'] = 'display_data';\n",
              "          await google.colab.output.renderOutput(dataTable, element);\n",
              "          const docLink = document.createElement('div');\n",
              "          docLink.innerHTML = docLinkHtml;\n",
              "          element.appendChild(docLink);\n",
              "        }\n",
              "      </script>\n",
              "    </div>\n",
              "  </div>\n",
              "  "
            ]
          },
          "metadata": {},
          "execution_count": 207
        }
      ]
    },
    {
      "cell_type": "code",
      "source": [
        "# Plotting the above data\n",
        "plt.figure(figsize=(20,10))\n",
        "plt.subplot(1,2,1)\n",
        "sns.countplot(data = a111, x = 'previous_cancellations', hue = 'hotel')\n",
        "plt.subplot(1,2,2)\n",
        "sns.countplot(data = a111, x = 'previous_bookings_not_canceled', hue = 'hotel')"
      ],
      "metadata": {
        "colab": {
          "base_uri": "https://localhost:8080/",
          "height": 623
        },
        "id": "SB0ZekRvwEPK",
        "outputId": "f41c2f70-51e3-400b-e770-e1f962063d4e"
      },
      "execution_count": null,
      "outputs": [
        {
          "output_type": "execute_result",
          "data": {
            "text/plain": [
              "<matplotlib.axes._subplots.AxesSubplot at 0x7f14b692b6d0>"
            ]
          },
          "metadata": {},
          "execution_count": 236
        },
        {
          "output_type": "display_data",
          "data": {
            "text/plain": [
              "<Figure size 1440x720 with 2 Axes>"
            ],
            "image/png": "[encoded data removed]"
          },
          "metadata": {
            "needs_background": "light"
          }
        }
      ]
    },
    {
      "cell_type": "markdown",
      "source": [
        "**Now, looking at the arrival period:**"
      ],
      "metadata": {
        "id": "CebyNaEhdXRK"
      }
    },
    {
      "cell_type": "code",
      "source": [
        "df_nonull.columns"
      ],
      "metadata": {
        "colab": {
          "base_uri": "https://localhost:8080/"
        },
        "id": "nAv2ocLEdcjL",
        "outputId": "f562916d-f237-49b5-f945-121c926742f8"
      },
      "execution_count": null,
      "outputs": [
        {
          "output_type": "execute_result",
          "data": {
            "text/plain": [
              "Index(['hotel', 'is_canceled', 'lead_time', 'arrival_date_year',\n",
              "       'arrival_date_month', 'arrival_date_week_number',\n",
              "       'arrival_date_day_of_month', 'stays_in_weekend_nights',\n",
              "       'stays_in_week_nights', 'adults', 'children', 'babies', 'meal',\n",
              "       'country', 'market_segment', 'distribution_channel',\n",
              "       'is_repeated_guest', 'previous_cancellations',\n",
              "       'previous_bookings_not_canceled', 'reserved_room_type',\n",
              "       'assigned_room_type', 'booking_changes', 'deposit_type',\n",
              "       'days_in_waiting_list', 'customer_type', 'adr',\n",
              "       'required_car_parking_spaces', 'total_of_special_requests',\n",
              "       'reservation_status', 'reservation_status_date'],\n",
              "      dtype='object')"
            ]
          },
          "metadata": {},
          "execution_count": 209
        }
      ]
    },
    {
      "cell_type": "code",
      "source": [
        "order_months = ['January', 'February', 'March', 'April', 'May', 'June', 'July', 'August', 'September', 'October', 'November', 'December']\n",
        "arrival_list = ['hotel', 'arrival_date_year', 'arrival_date_month', 'arrival_date_week_number',\n",
        "              'arrival_date_day_of_month', 'stays_in_weekend_nights', 'stays_in_week_nights']\n",
        "a = df_nonull[arrival_list]\n",
        "plot = sns.catplot(x = 'arrival_date_month', hue = 'hotel', col = 'arrival_date_year',\n",
        "            data = a, kind=\"count\", height=7, aspect=1, order = order_months, legend = False)\n",
        "plt.legend(loc='upper right')\n",
        "# The labels on x-axis are not readable as they overlap each other. We need to rotate them\n",
        "# These are called as xticks. Tried a number of simpler approahes, however the below mentioned one\n",
        "# is the only solution that I got so far.\n",
        "# To rotate the x ticks.\n",
        "for axes in plot.axes.flat:\n",
        "    _ = axes.set_xticklabels(axes.get_xticklabels(), rotation=90)\n",
        "plt.tight_layout()"
      ],
      "metadata": {
        "colab": {
          "base_uri": "https://localhost:8080/",
          "height": 504
        },
        "id": "ey0a0nrvum64",
        "outputId": "ac98479e-7094-46ed-d37a-eb81dbdb8c4c"
      },
      "execution_count": null,
      "outputs": [
        {
          "output_type": "display_data",
          "data": {
            "text/plain": [
              "<Figure size 1512x504 with 3 Axes>"
            ],
            "image/png": "[encoded data removed]"
          },
          "metadata": {
            "needs_background": "light"
          }
        }
      ]
    },
    {
      "cell_type": "markdown",
      "source": [
        "From this we can see the trend in arrival wrt month for all the three years."
      ],
      "metadata": {
        "id": "MnYlxfW2-paz"
      }
    },
    {
      "cell_type": "code",
      "source": [
        "a.head(5)"
      ],
      "metadata": {
        "colab": {
          "base_uri": "https://localhost:8080/",
          "height": 206
        },
        "id": "GDdi5cHO_ato",
        "outputId": "c194e4cd-e3af-461c-8c25-e81e38ebfb41"
      },
      "execution_count": null,
      "outputs": [
        {
          "output_type": "execute_result",
          "data": {
            "text/plain": [
              "          hotel  arrival_date_year arrival_date_month  \\\n",
              "0  Resort Hotel               2015               July   \n",
              "1  Resort Hotel               2015               July   \n",
              "2  Resort Hotel               2015               July   \n",
              "3  Resort Hotel               2015               July   \n",
              "4  Resort Hotel               2015               July   \n",
              "\n",
              "   arrival_date_week_number  arrival_date_day_of_month  \\\n",
              "0                        27                          1   \n",
              "1                        27                          1   \n",
              "2                        27                          1   \n",
              "3                        27                          1   \n",
              "4                        27                          1   \n",
              "\n",
              "   stays_in_weekend_nights  stays_in_week_nights  \n",
              "0                        0                     0  \n",
              "1                        0                     0  \n",
              "2                        0                     1  \n",
              "3                        0                     1  \n",
              "4                        0                     2  "
            ],
            "text/html": [
              "\n",
              "  <div id=\"df-2d187626-eb1f-4a22-be39-b8316ea1e0a4\">\n",
              "    <div class=\"colab-df-container\">\n",
              "      <div>\n",
              "<style scoped>\n",
              "    .dataframe tbody tr th:only-of-type {\n",
              "        vertical-align: middle;\n",
              "    }\n",
              "\n",
              "    .dataframe tbody tr th {\n",
              "        vertical-align: top;\n",
              "    }\n",
              "\n",
              "    .dataframe thead th {\n",
              "        text-align: right;\n",
              "    }\n",
              "</style>\n",
              "<table border=\"1\" class=\"dataframe\">\n",
              "  <thead>\n",
              "    <tr style=\"text-align: right;\">\n",
              "      <th></th>\n",
              "      <th>hotel</th>\n",
              "      <th>arrival_date_year</th>\n",
              "      <th>arrival_date_month</th>\n",
              "      <th>arrival_date_week_number</th>\n",
              "      <th>arrival_date_day_of_month</th>\n",
              "      <th>stays_in_weekend_nights</th>\n",
              "      <th>stays_in_week_nights</th>\n",
              "    </tr>\n",
              "  </thead>\n",
              "  <tbody>\n",
              "    <tr>\n",
              "      <th>0</th>\n",
              "      <td>Resort Hotel</td>\n",
              "      <td>2015</td>\n",
              "      <td>July</td>\n",
              "      <td>27</td>\n",
              "      <td>1</td>\n",
              "      <td>0</td>\n",
              "      <td>0</td>\n",
              "    </tr>\n",
              "    <tr>\n",
              "      <th>1</th>\n",
              "      <td>Resort Hotel</td>\n",
              "      <td>2015</td>\n",
              "      <td>July</td>\n",
              "      <td>27</td>\n",
              "      <td>1</td>\n",
              "      <td>0</td>\n",
              "      <td>0</td>\n",
              "    </tr>\n",
              "    <tr>\n",
              "      <th>2</th>\n",
              "      <td>Resort Hotel</td>\n",
              "      <td>2015</td>\n",
              "      <td>July</td>\n",
              "      <td>27</td>\n",
              "      <td>1</td>\n",
              "      <td>0</td>\n",
              "      <td>1</td>\n",
              "    </tr>\n",
              "    <tr>\n",
              "      <th>3</th>\n",
              "      <td>Resort Hotel</td>\n",
              "      <td>2015</td>\n",
              "      <td>July</td>\n",
              "      <td>27</td>\n",
              "      <td>1</td>\n",
              "      <td>0</td>\n",
              "      <td>1</td>\n",
              "    </tr>\n",
              "    <tr>\n",
              "      <th>4</th>\n",
              "      <td>Resort Hotel</td>\n",
              "      <td>2015</td>\n",
              "      <td>July</td>\n",
              "      <td>27</td>\n",
              "      <td>1</td>\n",
              "      <td>0</td>\n",
              "      <td>2</td>\n",
              "    </tr>\n",
              "  </tbody>\n",
              "</table>\n",
              "</div>\n",
              "      <button class=\"colab-df-convert\" onclick=\"convertToInteractive('df-2d187626-eb1f-4a22-be39-b8316ea1e0a4')\"\n",
              "              title=\"Convert this dataframe to an interactive table.\"\n",
              "              style=\"display:none;\">\n",
              "        \n",
              "  <svg xmlns=\"http://www.w3.org/2000/svg\" height=\"24px\"viewBox=\"0 0 24 24\"\n",
              "       width=\"24px\">\n",
              "    <path d=\"M0 0h24v24H0V0z\" fill=\"none\"/>\n",
              "    <path d=\"M18.56 5.44l.94 2.06.94-2.06 2.06-.94-2.06-.94-.94-2.06-.94 2.06-2.06.94zm-11 1L8.5 8.5l.94-2.06 2.06-.94-2.06-.94L8.5 2.5l-.94 2.06-2.06.94zm10 10l.94 2.06.94-2.06 2.06-.94-2.06-.94-.94-2.06-.94 2.06-2.06.94z\"/><path d=\"M17.41 7.96l-1.37-1.37c-.4-.4-.92-.59-1.43-.59-.52 0-1.04.2-1.43.59L10.3 9.45l-7.72 7.72c-.78.78-.78 2.05 0 2.83L4 21.41c.39.39.9.59 1.41.59.51 0 1.02-.2 1.41-.59l7.78-7.78 2.81-2.81c.8-.78.8-2.07 0-2.86zM5.41 20L4 18.59l7.72-7.72 1.47 1.35L5.41 20z\"/>\n",
              "  </svg>\n",
              "      </button>\n",
              "      \n",
              "  <style>\n",
              "    .colab-df-container {\n",
              "      display:flex;\n",
              "      flex-wrap:wrap;\n",
              "      gap: 12px;\n",
              "    }\n",
              "\n",
              "    .colab-df-convert {\n",
              "      background-color: #E8F0FE;\n",
              "      border: none;\n",
              "      border-radius: 50%;\n",
              "      cursor: pointer;\n",
              "      display: none;\n",
              "      fill: #1967D2;\n",
              "      height: 32px;\n",
              "      padding: 0 0 0 0;\n",
              "      width: 32px;\n",
              "    }\n",
              "\n",
              "    .colab-df-convert:hover {\n",
              "      background-color: #E2EBFA;\n",
              "      box-shadow: 0px 1px 2px rgba(60, 64, 67, 0.3), 0px 1px 3px 1px rgba(60, 64, 67, 0.15);\n",
              "      fill: #174EA6;\n",
              "    }\n",
              "\n",
              "    [theme=dark] .colab-df-convert {\n",
              "      background-color: #3B4455;\n",
              "      fill: #D2E3FC;\n",
              "    }\n",
              "\n",
              "    [theme=dark] .colab-df-convert:hover {\n",
              "      background-color: #434B5C;\n",
              "      box-shadow: 0px 1px 3px 1px rgba(0, 0, 0, 0.15);\n",
              "      filter: drop-shadow(0px 1px 2px rgba(0, 0, 0, 0.3));\n",
              "      fill: #FFFFFF;\n",
              "    }\n",
              "  </style>\n",
              "\n",
              "      <script>\n",
              "        const buttonEl =\n",
              "          document.querySelector('#df-2d187626-eb1f-4a22-be39-b8316ea1e0a4 button.colab-df-convert');\n",
              "        buttonEl.style.display =\n",
              "          google.colab.kernel.accessAllowed ? 'block' : 'none';\n",
              "\n",
              "        async function convertToInteractive(key) {\n",
              "          const element = document.querySelector('#df-2d187626-eb1f-4a22-be39-b8316ea1e0a4');\n",
              "          const dataTable =\n",
              "            await google.colab.kernel.invokeFunction('convertToInteractive',\n",
              "                                                     [key], {});\n",
              "          if (!dataTable) return;\n",
              "\n",
              "          const docLinkHtml = 'Like what you see? Visit the ' +\n",
              "            '<a target=\"_blank\" href=https://colab.research.google.com/notebooks/data_table.ipynb>data table notebook</a>'\n",
              "            + ' to learn more about interactive tables.';\n",
              "          element.innerHTML = '';\n",
              "          dataTable['output_type'] = 'display_data';\n",
              "          await google.colab.output.renderOutput(dataTable, element);\n",
              "          const docLink = document.createElement('div');\n",
              "          docLink.innerHTML = docLinkHtml;\n",
              "          element.appendChild(docLink);\n",
              "        }\n",
              "      </script>\n",
              "    </div>\n",
              "  </div>\n",
              "  "
            ]
          },
          "metadata": {},
          "execution_count": 211
        }
      ]
    },
    {
      "cell_type": "code",
      "source": [
        "week_order = list(range(1,54))\n",
        "plot = sns.catplot(x = 'arrival_date_week_number', hue = 'hotel', col = 'arrival_date_year',col_wrap=1, \n",
        "            data = a, kind=\"count\", height=7, aspect=2.5, order = week_order, legend = False, legend_out = True, sharex=False, sharey=False)\n",
        "plt.legend(loc='upper right')\n",
        "for axes in plot.axes.flat:\n",
        "    _ = axes.set_xticklabels(axes.get_xticklabels(), rotation=90)\n",
        "plt.tight_layout()"
      ],
      "metadata": {
        "colab": {
          "base_uri": "https://localhost:8080/",
          "height": 1000
        },
        "id": "PjFj3Du_-5ET",
        "outputId": "b07512b0-eee7-4bd5-a0f0-94a8dc2a5a4a"
      },
      "execution_count": null,
      "outputs": [
        {
          "output_type": "display_data",
          "data": {
            "text/plain": [
              "<Figure size 1260x1512 with 3 Axes>"
            ],
            "image/png": "[encoded data removed]"
          },
          "metadata": {
            "needs_background": "light"
          }
        }
      ]
    },
    {
      "cell_type": "code",
      "source": [
        "# Find how to arrange the order of the columns, coz here the order_month does not work.\n",
        "# This is because it represents the month, where as here for x axis we have days (1-31). Hnce, it does not work.\n",
        "plot = sns.catplot(x = 'arrival_date_day_of_month', hue = 'hotel', col = 'arrival_date_month',\n",
        "            data = a, kind=\"count\", height=7, aspect=1, legend = False)\n",
        "plt.legend(loc='upper right')\n",
        "plt.title('Number of Arrivals per day for individual months')\n",
        "for axes in plot.axes.flat:\n",
        "    _ = axes.set_xticklabels(axes.get_xticklabels(), rotation=90)\n",
        "plt.tight_layout()"
      ],
      "metadata": {
        "colab": {
          "base_uri": "https://localhost:8080/",
          "height": 138
        },
        "id": "nLXFlypKLp2X",
        "outputId": "ca86a50b-095a-4396-a901-d99b7fff89e3"
      },
      "execution_count": null,
      "outputs": [
        {
          "output_type": "display_data",
          "data": {
            "text/plain": [
              "<Figure size 6048x504 with 12 Axes>"
            ],
            "image/png": "[encoded data removed]"
          },
          "metadata": {
            "needs_background": "light"
          }
        }
      ]
    },
    {
      "cell_type": "code",
      "source": [
        "plt.figure(figsize=(20,10))\n",
        "plot = sns.countplot(data = a, x = 'arrival_date_day_of_month', hue = 'hotel')\n",
        "plt.legend(loc='upper right')\n",
        "plt.title('Number of Arrivals per day')"
      ],
      "metadata": {
        "colab": {
          "base_uri": "https://localhost:8080/",
          "height": 638
        },
        "id": "y6jAkza0MDUw",
        "outputId": "4e3821b2-8a43-4c06-dee0-fe40c3a79a3a"
      },
      "execution_count": null,
      "outputs": [
        {
          "output_type": "execute_result",
          "data": {
            "text/plain": [
              "Text(0.5, 1.0, 'Number of Arrivals per day')"
            ]
          },
          "metadata": {},
          "execution_count": 214
        },
        {
          "output_type": "display_data",
          "data": {
            "text/plain": [
              "<Figure size 1440x720 with 1 Axes>"
            ],
            "image/png": "[encoded data removed]"
          },
          "metadata": {
            "needs_background": "light"
          }
        }
      ]
    },
    {
      "cell_type": "code",
      "source": [
        "# To show weekend night stays vs week night stays.\n",
        "plot = sns.countplot(data = a, x = 'stays_in_weekend_nights', hue = 'hotel')\n",
        "plt.legend(loc='upper right')\n",
        "plt.title('Number of Stays on weekend nights')"
      ],
      "metadata": {
        "colab": {
          "base_uri": "https://localhost:8080/",
          "height": 638
        },
        "id": "YsS-dZzFOklc",
        "outputId": "5a70165c-0fdb-4fac-c919-2bdb912a21d6"
      },
      "execution_count": null,
      "outputs": [
        {
          "output_type": "execute_result",
          "data": {
            "text/plain": [
              "Text(0.5, 1.0, 'Number of Stays on weekend nights')"
            ]
          },
          "metadata": {},
          "execution_count": 215
        },
        {
          "output_type": "display_data",
          "data": {
            "text/plain": [
              "<Figure size 720x720 with 1 Axes>"
            ],
            "image/png": "[encoded data removed]"
          },
          "metadata": {
            "needs_background": "light"
          }
        }
      ]
    },
    {
      "cell_type": "code",
      "source": [
        "plot = sns.countplot(data = a, x = 'stays_in_week_nights', hue = 'hotel')\n",
        "plt.legend(loc='upper right')\n",
        "plt.title('Number of Stays on weekend nights')"
      ],
      "metadata": {
        "colab": {
          "base_uri": "https://localhost:8080/",
          "height": 638
        },
        "id": "zKogDvEDNxkj",
        "outputId": "fe5891f8-b90e-40f9-b3e8-28db6554c7ed"
      },
      "execution_count": null,
      "outputs": [
        {
          "output_type": "execute_result",
          "data": {
            "text/plain": [
              "Text(0.5, 1.0, 'Number of Stays on weekend nights')"
            ]
          },
          "metadata": {},
          "execution_count": 216
        },
        {
          "output_type": "display_data",
          "data": {
            "text/plain": [
              "<Figure size 720x720 with 1 Axes>"
            ],
            "image/png": "[encoded data removed]"
          },
          "metadata": {
            "needs_background": "light"
          }
        }
      ]
    },
    {
      "cell_type": "code",
      "source": [
        "df_nonull.columns"
      ],
      "metadata": {
        "colab": {
          "base_uri": "https://localhost:8080/"
        },
        "id": "jF38kkmhSZhM",
        "outputId": "ced252a9-5d23-4972-8f6e-f7302a904c80"
      },
      "execution_count": null,
      "outputs": [
        {
          "output_type": "execute_result",
          "data": {
            "text/plain": [
              "Index(['hotel', 'is_canceled', 'lead_time', 'arrival_date_year',\n",
              "       'arrival_date_month', 'arrival_date_week_number',\n",
              "       'arrival_date_day_of_month', 'stays_in_weekend_nights',\n",
              "       'stays_in_week_nights', 'adults', 'children', 'babies', 'meal',\n",
              "       'country', 'market_segment', 'distribution_channel',\n",
              "       'is_repeated_guest', 'previous_cancellations',\n",
              "       'previous_bookings_not_canceled', 'reserved_room_type',\n",
              "       'assigned_room_type', 'booking_changes', 'deposit_type',\n",
              "       'days_in_waiting_list', 'customer_type', 'adr',\n",
              "       'required_car_parking_spaces', 'total_of_special_requests',\n",
              "       'reservation_status', 'reservation_status_date'],\n",
              "      dtype='object')"
            ]
          },
          "metadata": {},
          "execution_count": 217
        }
      ]
    },
    {
      "cell_type": "code",
      "source": [
        "df_nonull.market_segment.unique()"
      ],
      "metadata": {
        "colab": {
          "base_uri": "https://localhost:8080/"
        },
        "id": "onFSaWk0T5kk",
        "outputId": "8a870448-8a5f-40ea-e480-7ae48b4cf5c5"
      },
      "execution_count": null,
      "outputs": [
        {
          "output_type": "execute_result",
          "data": {
            "text/plain": [
              "array(['Direct', 'Corporate', 'Online TA', 'Offline TA/TO',\n",
              "       'Complementary', 'Groups', 'Aviation'], dtype=object)"
            ]
          },
          "metadata": {},
          "execution_count": 218
        }
      ]
    },
    {
      "cell_type": "markdown",
      "source": [
        "**Analysing the bookings for individual market segments**"
      ],
      "metadata": {
        "id": "zxWdFAriYfuD"
      }
    },
    {
      "cell_type": "code",
      "source": [
        "# Total bookings count from individual market segement\n",
        "sns.countplot(data = df_nonull, x = 'market_segment')"
      ],
      "metadata": {
        "colab": {
          "base_uri": "https://localhost:8080/",
          "height": 623
        },
        "id": "bsvlVOL6W8_M",
        "outputId": "4501579e-faad-499e-d9b0-86f951a34c3c"
      },
      "execution_count": null,
      "outputs": [
        {
          "output_type": "execute_result",
          "data": {
            "text/plain": [
              "<matplotlib.axes._subplots.AxesSubplot at 0x7f14bdd5d690>"
            ]
          },
          "metadata": {},
          "execution_count": 219
        },
        {
          "output_type": "display_data",
          "data": {
            "text/plain": [
              "<Figure size 720x720 with 1 Axes>"
            ],
            "image/png": "[encoded data removed]"
          },
          "metadata": {
            "needs_background": "light"
          }
        }
      ]
    },
    {
      "cell_type": "code",
      "source": [
        "# Adultswise market segment\n",
        "plt.figure(figsize=(20,10))\n",
        "sns.countplot(data = df_nonull, x = 'adults', hue = 'market_segment')"
      ],
      "metadata": {
        "colab": {
          "base_uri": "https://localhost:8080/",
          "height": 623
        },
        "id": "NeAKNf5zSwPE",
        "outputId": "f3c65b17-d59d-4506-ab9c-d96176800bf5"
      },
      "execution_count": null,
      "outputs": [
        {
          "output_type": "execute_result",
          "data": {
            "text/plain": [
              "<matplotlib.axes._subplots.AxesSubplot at 0x7f14b7850850>"
            ]
          },
          "metadata": {},
          "execution_count": 220
        },
        {
          "output_type": "display_data",
          "data": {
            "text/plain": [
              "<Figure size 1440x720 with 1 Axes>"
            ],
            "image/png": "[encoded data removed]"
          },
          "metadata": {
            "needs_background": "light"
          }
        }
      ]
    },
    {
      "cell_type": "code",
      "source": [
        "# This is a better graph as it counts the total number of adults/children against each market segment.\n",
        "m1 = df_nonull.groupby('market_segment').sum()\n",
        "plt.plot(m1['adults'])\n",
        "plt.plot(m1['children'])\n",
        "plt.legend(['adults', 'children'])"
      ],
      "metadata": {
        "colab": {
          "base_uri": "https://localhost:8080/",
          "height": 608
        },
        "id": "1kHiZEXpYq7H",
        "outputId": "8685ff12-9483-4a89-fb88-c8b8943ce6e8"
      },
      "execution_count": null,
      "outputs": [
        {
          "output_type": "execute_result",
          "data": {
            "text/plain": [
              "<matplotlib.legend.Legend at 0x7f14b6246850>"
            ]
          },
          "metadata": {},
          "execution_count": 221
        },
        {
          "output_type": "display_data",
          "data": {
            "text/plain": [
              "<Figure size 720x720 with 1 Axes>"
            ],
            "image/png": "[encoded data removed]"
          },
          "metadata": {
            "needs_background": "light"
          }
        }
      ]
    },
    {
      "cell_type": "code",
      "source": [
        "m1"
      ],
      "metadata": {
        "colab": {
          "base_uri": "https://localhost:8080/",
          "height": 364
        },
        "id": "fk8wjp-Sbf6j",
        "outputId": "c9be81f4-13ae-4553-9d21-0c94fc2c6e95"
      },
      "execution_count": null,
      "outputs": [
        {
          "output_type": "execute_result",
          "data": {
            "text/plain": [
              "                is_canceled  lead_time  arrival_date_year  \\\n",
              "market_segment                                              \n",
              "Aviation                 52       1053             477902   \n",
              "Complementary            90       9872            1479788   \n",
              "Corporate               978     116157           10304184   \n",
              "Direct                 1920     624394           25097495   \n",
              "Groups                12097    3704006           39928650   \n",
              "Offline TA/TO          8278    3261937           48706174   \n",
              "Online TA             20738    4685002          113722920   \n",
              "\n",
              "                arrival_date_week_number  arrival_date_day_of_month  \\\n",
              "market_segment                                                        \n",
              "Aviation                            5946                       3723   \n",
              "Complementary                      20925                      11372   \n",
              "Corporate                         133153                      80328   \n",
              "Direct                            329860                     198052   \n",
              "Groups                            539787                     317455   \n",
              "Offline TA/TO                     700692                     377145   \n",
              "Online TA                        1499686                     890618   \n",
              "\n",
              "                stays_in_weekend_nights  stays_in_week_nights  adults  \\\n",
              "market_segment                                                          \n",
              "Aviation                            259                   596     238   \n",
              "Complementary                       260                   959    1102   \n",
              "Corporate                          2284                  8512    6352   \n",
              "Direct                            10636                 29197   23387   \n",
              "Groups                            15624                 43648   35592   \n",
              "Offline TA/TO                     25460                 68855   43961   \n",
              "Online TA                         55921                145733  110327   \n",
              "\n",
              "                children  babies  is_repeated_guest  previous_cancellations  \\\n",
              "market_segment                                                                \n",
              "Aviation             0.0       0                 64                      13   \n",
              "Complementary       61.0      22                230                     162   \n",
              "Corporate           53.0      16               1473                     871   \n",
              "Direct            2241.0     285                794                     222   \n",
              "Groups              58.0      13                270                    5428   \n",
              "Offline TA/TO      652.0     178                379                    2758   \n",
              "Online TA         9325.0     431                596                     907   \n",
              "\n",
              "                previous_bookings_not_canceled  booking_changes  \\\n",
              "market_segment                                                    \n",
              "Aviation                                   102               62   \n",
              "Complementary                             1524              246   \n",
              "Corporate                                10418             1597   \n",
              "Direct                                    1541             4934   \n",
              "Groups                                     316             4193   \n",
              "Offline TA/TO                              555             3905   \n",
              "Online TA                                 1195            11361   \n",
              "\n",
              "                days_in_waiting_list         adr  required_car_parking_spaces  \\\n",
              "market_segment                                                                  \n",
              "Aviation                           0    23733.68                            6   \n",
              "Complementary                     39     2144.57                           84   \n",
              "Corporate                        819   359220.15                          557   \n",
              "Direct                           511  1443255.68                         2074   \n",
              "Groups                        126853  1573915.32                          282   \n",
              "Offline TA/TO                 148771  2112380.70                          550   \n",
              "Online TA                        129  6613331.43                         3805   \n",
              "\n",
              "                total_of_special_requests  \n",
              "market_segment                             \n",
              "Aviation                               27  \n",
              "Complementary                         693  \n",
              "Corporate                            1176  \n",
              "Direct                               7141  \n",
              "Groups                               1725  \n",
              "Offline TA/TO                        6485  \n",
              "Online TA                           50725  "
            ],
            "text/html": [
              "\n",
              "  <div id=\"df-b8b19a74-cdb2-48cc-9c2c-125cd6986628\">\n",
              "    <div class=\"colab-df-container\">\n",
              "      <div>\n",
              "<style scoped>\n",
              "    .dataframe tbody tr th:only-of-type {\n",
              "        vertical-align: middle;\n",
              "    }\n",
              "\n",
              "    .dataframe tbody tr th {\n",
              "        vertical-align: top;\n",
              "    }\n",
              "\n",
              "    .dataframe thead th {\n",
              "        text-align: right;\n",
              "    }\n",
              "</style>\n",
              "<table border=\"1\" class=\"dataframe\">\n",
              "  <thead>\n",
              "    <tr style=\"text-align: right;\">\n",
              "      <th></th>\n",
              "      <th>is_canceled</th>\n",
              "      <th>lead_time</th>\n",
              "      <th>arrival_date_year</th>\n",
              "      <th>arrival_date_week_number</th>\n",
              "      <th>arrival_date_day_of_month</th>\n",
              "      <th>stays_in_weekend_nights</th>\n",
              "      <th>stays_in_week_nights</th>\n",
              "      <th>adults</th>\n",
              "      <th>children</th>\n",
              "      <th>babies</th>\n",
              "      <th>is_repeated_guest</th>\n",
              "      <th>previous_cancellations</th>\n",
              "      <th>previous_bookings_not_canceled</th>\n",
              "      <th>booking_changes</th>\n",
              "      <th>days_in_waiting_list</th>\n",
              "      <th>adr</th>\n",
              "      <th>required_car_parking_spaces</th>\n",
              "      <th>total_of_special_requests</th>\n",
              "    </tr>\n",
              "    <tr>\n",
              "      <th>market_segment</th>\n",
              "      <th></th>\n",
              "      <th></th>\n",
              "      <th></th>\n",
              "      <th></th>\n",
              "      <th></th>\n",
              "      <th></th>\n",
              "      <th></th>\n",
              "      <th></th>\n",
              "      <th></th>\n",
              "      <th></th>\n",
              "      <th></th>\n",
              "      <th></th>\n",
              "      <th></th>\n",
              "      <th></th>\n",
              "      <th></th>\n",
              "      <th></th>\n",
              "      <th></th>\n",
              "      <th></th>\n",
              "    </tr>\n",
              "  </thead>\n",
              "  <tbody>\n",
              "    <tr>\n",
              "      <th>Aviation</th>\n",
              "      <td>52</td>\n",
              "      <td>1053</td>\n",
              "      <td>477902</td>\n",
              "      <td>5946</td>\n",
              "      <td>3723</td>\n",
              "      <td>259</td>\n",
              "      <td>596</td>\n",
              "      <td>238</td>\n",
              "      <td>0.0</td>\n",
              "      <td>0</td>\n",
              "      <td>64</td>\n",
              "      <td>13</td>\n",
              "      <td>102</td>\n",
              "      <td>62</td>\n",
              "      <td>0</td>\n",
              "      <td>23733.68</td>\n",
              "      <td>6</td>\n",
              "      <td>27</td>\n",
              "    </tr>\n",
              "    <tr>\n",
              "      <th>Complementary</th>\n",
              "      <td>90</td>\n",
              "      <td>9872</td>\n",
              "      <td>1479788</td>\n",
              "      <td>20925</td>\n",
              "      <td>11372</td>\n",
              "      <td>260</td>\n",
              "      <td>959</td>\n",
              "      <td>1102</td>\n",
              "      <td>61.0</td>\n",
              "      <td>22</td>\n",
              "      <td>230</td>\n",
              "      <td>162</td>\n",
              "      <td>1524</td>\n",
              "      <td>246</td>\n",
              "      <td>39</td>\n",
              "      <td>2144.57</td>\n",
              "      <td>84</td>\n",
              "      <td>693</td>\n",
              "    </tr>\n",
              "    <tr>\n",
              "      <th>Corporate</th>\n",
              "      <td>978</td>\n",
              "      <td>116157</td>\n",
              "      <td>10304184</td>\n",
              "      <td>133153</td>\n",
              "      <td>80328</td>\n",
              "      <td>2284</td>\n",
              "      <td>8512</td>\n",
              "      <td>6352</td>\n",
              "      <td>53.0</td>\n",
              "      <td>16</td>\n",
              "      <td>1473</td>\n",
              "      <td>871</td>\n",
              "      <td>10418</td>\n",
              "      <td>1597</td>\n",
              "      <td>819</td>\n",
              "      <td>359220.15</td>\n",
              "      <td>557</td>\n",
              "      <td>1176</td>\n",
              "    </tr>\n",
              "    <tr>\n",
              "      <th>Direct</th>\n",
              "      <td>1920</td>\n",
              "      <td>624394</td>\n",
              "      <td>25097495</td>\n",
              "      <td>329860</td>\n",
              "      <td>198052</td>\n",
              "      <td>10636</td>\n",
              "      <td>29197</td>\n",
              "      <td>23387</td>\n",
              "      <td>2241.0</td>\n",
              "      <td>285</td>\n",
              "      <td>794</td>\n",
              "      <td>222</td>\n",
              "      <td>1541</td>\n",
              "      <td>4934</td>\n",
              "      <td>511</td>\n",
              "      <td>1443255.68</td>\n",
              "      <td>2074</td>\n",
              "      <td>7141</td>\n",
              "    </tr>\n",
              "    <tr>\n",
              "      <th>Groups</th>\n",
              "      <td>12097</td>\n",
              "      <td>3704006</td>\n",
              "      <td>39928650</td>\n",
              "      <td>539787</td>\n",
              "      <td>317455</td>\n",
              "      <td>15624</td>\n",
              "      <td>43648</td>\n",
              "      <td>35592</td>\n",
              "      <td>58.0</td>\n",
              "      <td>13</td>\n",
              "      <td>270</td>\n",
              "      <td>5428</td>\n",
              "      <td>316</td>\n",
              "      <td>4193</td>\n",
              "      <td>126853</td>\n",
              "      <td>1573915.32</td>\n",
              "      <td>282</td>\n",
              "      <td>1725</td>\n",
              "    </tr>\n",
              "    <tr>\n",
              "      <th>Offline TA/TO</th>\n",
              "      <td>8278</td>\n",
              "      <td>3261937</td>\n",
              "      <td>48706174</td>\n",
              "      <td>700692</td>\n",
              "      <td>377145</td>\n",
              "      <td>25460</td>\n",
              "      <td>68855</td>\n",
              "      <td>43961</td>\n",
              "      <td>652.0</td>\n",
              "      <td>178</td>\n",
              "      <td>379</td>\n",
              "      <td>2758</td>\n",
              "      <td>555</td>\n",
              "      <td>3905</td>\n",
              "      <td>148771</td>\n",
              "      <td>2112380.70</td>\n",
              "      <td>550</td>\n",
              "      <td>6485</td>\n",
              "    </tr>\n",
              "    <tr>\n",
              "      <th>Online TA</th>\n",
              "      <td>20738</td>\n",
              "      <td>4685002</td>\n",
              "      <td>113722920</td>\n",
              "      <td>1499686</td>\n",
              "      <td>890618</td>\n",
              "      <td>55921</td>\n",
              "      <td>145733</td>\n",
              "      <td>110327</td>\n",
              "      <td>9325.0</td>\n",
              "      <td>431</td>\n",
              "      <td>596</td>\n",
              "      <td>907</td>\n",
              "      <td>1195</td>\n",
              "      <td>11361</td>\n",
              "      <td>129</td>\n",
              "      <td>6613331.43</td>\n",
              "      <td>3805</td>\n",
              "      <td>50725</td>\n",
              "    </tr>\n",
              "  </tbody>\n",
              "</table>\n",
              "</div>\n",
              "      <button class=\"colab-df-convert\" onclick=\"convertToInteractive('df-b8b19a74-cdb2-48cc-9c2c-125cd6986628')\"\n",
              "              title=\"Convert this dataframe to an interactive table.\"\n",
              "              style=\"display:none;\">\n",
              "        \n",
              "  <svg xmlns=\"http://www.w3.org/2000/svg\" height=\"24px\"viewBox=\"0 0 24 24\"\n",
              "       width=\"24px\">\n",
              "    <path d=\"M0 0h24v24H0V0z\" fill=\"none\"/>\n",
              "    <path d=\"M18.56 5.44l.94 2.06.94-2.06 2.06-.94-2.06-.94-.94-2.06-.94 2.06-2.06.94zm-11 1L8.5 8.5l.94-2.06 2.06-.94-2.06-.94L8.5 2.5l-.94 2.06-2.06.94zm10 10l.94 2.06.94-2.06 2.06-.94-2.06-.94-.94-2.06-.94 2.06-2.06.94z\"/><path d=\"M17.41 7.96l-1.37-1.37c-.4-.4-.92-.59-1.43-.59-.52 0-1.04.2-1.43.59L10.3 9.45l-7.72 7.72c-.78.78-.78 2.05 0 2.83L4 21.41c.39.39.9.59 1.41.59.51 0 1.02-.2 1.41-.59l7.78-7.78 2.81-2.81c.8-.78.8-2.07 0-2.86zM5.41 20L4 18.59l7.72-7.72 1.47 1.35L5.41 20z\"/>\n",
              "  </svg>\n",
              "      </button>\n",
              "      \n",
              "  <style>\n",
              "    .colab-df-container {\n",
              "      display:flex;\n",
              "      flex-wrap:wrap;\n",
              "      gap: 12px;\n",
              "    }\n",
              "\n",
              "    .colab-df-convert {\n",
              "      background-color: #E8F0FE;\n",
              "      border: none;\n",
              "      border-radius: 50%;\n",
              "      cursor: pointer;\n",
              "      display: none;\n",
              "      fill: #1967D2;\n",
              "      height: 32px;\n",
              "      padding: 0 0 0 0;\n",
              "      width: 32px;\n",
              "    }\n",
              "\n",
              "    .colab-df-convert:hover {\n",
              "      background-color: #E2EBFA;\n",
              "      box-shadow: 0px 1px 2px rgba(60, 64, 67, 0.3), 0px 1px 3px 1px rgba(60, 64, 67, 0.15);\n",
              "      fill: #174EA6;\n",
              "    }\n",
              "\n",
              "    [theme=dark] .colab-df-convert {\n",
              "      background-color: #3B4455;\n",
              "      fill: #D2E3FC;\n",
              "    }\n",
              "\n",
              "    [theme=dark] .colab-df-convert:hover {\n",
              "      background-color: #434B5C;\n",
              "      box-shadow: 0px 1px 3px 1px rgba(0, 0, 0, 0.15);\n",
              "      filter: drop-shadow(0px 1px 2px rgba(0, 0, 0, 0.3));\n",
              "      fill: #FFFFFF;\n",
              "    }\n",
              "  </style>\n",
              "\n",
              "      <script>\n",
              "        const buttonEl =\n",
              "          document.querySelector('#df-b8b19a74-cdb2-48cc-9c2c-125cd6986628 button.colab-df-convert');\n",
              "        buttonEl.style.display =\n",
              "          google.colab.kernel.accessAllowed ? 'block' : 'none';\n",
              "\n",
              "        async function convertToInteractive(key) {\n",
              "          const element = document.querySelector('#df-b8b19a74-cdb2-48cc-9c2c-125cd6986628');\n",
              "          const dataTable =\n",
              "            await google.colab.kernel.invokeFunction('convertToInteractive',\n",
              "                                                     [key], {});\n",
              "          if (!dataTable) return;\n",
              "\n",
              "          const docLinkHtml = 'Like what you see? Visit the ' +\n",
              "            '<a target=\"_blank\" href=https://colab.research.google.com/notebooks/data_table.ipynb>data table notebook</a>'\n",
              "            + ' to learn more about interactive tables.';\n",
              "          element.innerHTML = '';\n",
              "          dataTable['output_type'] = 'display_data';\n",
              "          await google.colab.output.renderOutput(dataTable, element);\n",
              "          const docLink = document.createElement('div');\n",
              "          docLink.innerHTML = docLinkHtml;\n",
              "          element.appendChild(docLink);\n",
              "        }\n",
              "      </script>\n",
              "    </div>\n",
              "  </div>\n",
              "  "
            ]
          },
          "metadata": {},
          "execution_count": 222
        }
      ]
    },
    {
      "cell_type": "code",
      "source": [
        "# Doing the same for hotelwise data\n",
        "m2 = df_nonull.groupby(['hotel', 'market_segment']).sum()\n",
        "plt.plot(m1['adults'])\n",
        "plt.plot(m1['children'])\n",
        "plt.legend(['adults', 'children'])"
      ],
      "metadata": {
        "colab": {
          "base_uri": "https://localhost:8080/",
          "height": 608
        },
        "id": "MG2eJ3YUetd4",
        "outputId": "e79baaaf-38b0-449c-963b-566b21664814"
      },
      "execution_count": null,
      "outputs": [
        {
          "output_type": "execute_result",
          "data": {
            "text/plain": [
              "<matplotlib.legend.Legend at 0x7f14b6e32b50>"
            ]
          },
          "metadata": {},
          "execution_count": 223
        },
        {
          "output_type": "display_data",
          "data": {
            "text/plain": [
              "<Figure size 720x720 with 1 Axes>"
            ],
            "image/png": "[encoded data removed]"
          },
          "metadata": {
            "needs_background": "light"
          }
        }
      ]
    },
    {
      "cell_type": "code",
      "source": [
        "m2"
      ],
      "metadata": {
        "colab": {
          "base_uri": "https://localhost:8080/",
          "height": 552
        },
        "id": "iraA27uupidH",
        "outputId": "30f6697b-bf7f-410b-e05e-468a65980cc2"
      },
      "execution_count": null,
      "outputs": [
        {
          "output_type": "execute_result",
          "data": {
            "text/plain": [
              "                             is_canceled  lead_time  arrival_date_year  \\\n",
              "hotel        market_segment                                              \n",
              "City Hotel   Aviation                 52       1053             477902   \n",
              "             Complementary            57       5849            1078573   \n",
              "             Corporate               640      76383            6017978   \n",
              "             Direct                 1055     312918           12280894   \n",
              "             Groups                 9623    2728263           28170975   \n",
              "             Offline TA/TO          7159    2366950           33733484   \n",
              "             Online TA             14490    3211200           78126867   \n",
              "Resort Hotel Complementary            33       4023             401215   \n",
              "             Corporate               338      39774            4286206   \n",
              "             Direct                  865     311476           12816601   \n",
              "             Groups                 2474     975743           11757675   \n",
              "             Offline TA/TO          1119     894987           14972690   \n",
              "             Online TA              6248    1473802           35596053   \n",
              "\n",
              "                             arrival_date_week_number  \\\n",
              "hotel        market_segment                             \n",
              "City Hotel   Aviation                            5946   \n",
              "             Complementary                      15098   \n",
              "             Corporate                          77587   \n",
              "             Direct                            162710   \n",
              "             Groups                            387312   \n",
              "             Offline TA/TO                     490855   \n",
              "             Online TA                        1015410   \n",
              "Resort Hotel Complementary                       5827   \n",
              "             Corporate                          55566   \n",
              "             Direct                            167150   \n",
              "             Groups                            152475   \n",
              "             Offline TA/TO                     209837   \n",
              "             Online TA                         484276   \n",
              "\n",
              "                             arrival_date_day_of_month  \\\n",
              "hotel        market_segment                              \n",
              "City Hotel   Aviation                             3723   \n",
              "             Complementary                        7936   \n",
              "             Corporate                           47342   \n",
              "             Direct                              96133   \n",
              "             Groups                             228632   \n",
              "             Offline TA/TO                      260534   \n",
              "             Online TA                          607706   \n",
              "Resort Hotel Complementary                        3436   \n",
              "             Corporate                           32986   \n",
              "             Direct                             101919   \n",
              "             Groups                              88823   \n",
              "             Offline TA/TO                      116611   \n",
              "             Online TA                          282912   \n",
              "\n",
              "                             stays_in_weekend_nights  stays_in_week_nights  \\\n",
              "hotel        market_segment                                                  \n",
              "City Hotel   Aviation                            259                   596   \n",
              "             Complementary                       164                   628   \n",
              "             Corporate                          1188                  4481   \n",
              "             Direct                             4671                 12859   \n",
              "             Groups                             9406                 26174   \n",
              "             Offline TA/TO                     12215                 36395   \n",
              "             Online TA                         35169                 91975   \n",
              "Resort Hotel Complementary                        96                   331   \n",
              "             Corporate                          1096                  4031   \n",
              "             Direct                             5965                 16338   \n",
              "             Groups                             6218                 17474   \n",
              "             Offline TA/TO                     13245                 32460   \n",
              "             Online TA                         20752                 53758   \n",
              "\n",
              "                             adults  children  babies  is_repeated_guest  \\\n",
              "hotel        market_segment                                                \n",
              "City Hotel   Aviation           238       0.0       0                 64   \n",
              "             Complementary      785      48.0      18                212   \n",
              "             Corporate         3661      17.0      11                913   \n",
              "             Direct           11151    1144.0     115                191   \n",
              "             Groups           25083      23.0       3                201   \n",
              "             Offline TA/TO    29730     300.0      59                219   \n",
              "             Online TA        76150    5716.0     186                232   \n",
              "Resort Hotel Complementary      317      13.0       4                 18   \n",
              "             Corporate         2691      36.0       5                560   \n",
              "             Direct           12236    1097.0     170                603   \n",
              "             Groups           10509      35.0      10                 69   \n",
              "             Offline TA/TO    14231     352.0     119                160   \n",
              "             Online TA        34177    3609.0     245                364   \n",
              "\n",
              "                             previous_cancellations  \\\n",
              "hotel        market_segment                           \n",
              "City Hotel   Aviation                            13   \n",
              "             Complementary                      160   \n",
              "             Corporate                          698   \n",
              "             Direct                             135   \n",
              "             Groups                            3091   \n",
              "             Offline TA/TO                     1532   \n",
              "             Online TA                          697   \n",
              "Resort Hotel Complementary                        2   \n",
              "             Corporate                          173   \n",
              "             Direct                              87   \n",
              "             Groups                            2337   \n",
              "             Offline TA/TO                     1226   \n",
              "             Online TA                          210   \n",
              "\n",
              "                             previous_bookings_not_canceled  booking_changes  \\\n",
              "hotel        market_segment                                                    \n",
              "City Hotel   Aviation                                   102               62   \n",
              "             Complementary                             1491              149   \n",
              "             Corporate                                 7614              849   \n",
              "             Direct                                     291             2220   \n",
              "             Groups                                     251             1744   \n",
              "             Offline TA/TO                              311             2478   \n",
              "             Online TA                                  441             7362   \n",
              "Resort Hotel Complementary                               33               97   \n",
              "             Corporate                                 2804              748   \n",
              "             Direct                                    1250             2714   \n",
              "             Groups                                      65             2449   \n",
              "             Offline TA/TO                              244             1427   \n",
              "             Online TA                                  754             3999   \n",
              "\n",
              "                             days_in_waiting_list         adr  \\\n",
              "hotel        market_segment                                     \n",
              "City Hotel   Aviation                           0    23733.68   \n",
              "             Complementary                     35     1409.43   \n",
              "             Corporate                        628   248196.26   \n",
              "             Direct                            71   727872.70   \n",
              "             Groups                        108113  1186713.34   \n",
              "             Offline TA/TO                 147004  1556856.75   \n",
              "             Online TA                        129  4607817.58   \n",
              "Resort Hotel Complementary                      4      735.14   \n",
              "             Corporate                        191   111023.89   \n",
              "             Direct                           440   715382.98   \n",
              "             Groups                         18740   387201.98   \n",
              "             Offline TA/TO                   1767   555523.95   \n",
              "             Online TA                          0  2005513.85   \n",
              "\n",
              "                             required_car_parking_spaces  \\\n",
              "hotel        market_segment                                \n",
              "City Hotel   Aviation                                  6   \n",
              "             Complementary                            41   \n",
              "             Corporate                               280   \n",
              "             Direct                                  415   \n",
              "             Groups                                    6   \n",
              "             Offline TA/TO                            48   \n",
              "             Online TA                              1137   \n",
              "Resort Hotel Complementary                            43   \n",
              "             Corporate                               277   \n",
              "             Direct                                 1659   \n",
              "             Groups                                  276   \n",
              "             Offline TA/TO                           502   \n",
              "             Online TA                              2668   \n",
              "\n",
              "                             total_of_special_requests  \n",
              "hotel        market_segment                             \n",
              "City Hotel   Aviation                               27  \n",
              "             Complementary                         538  \n",
              "             Corporate                             853  \n",
              "             Direct                               3453  \n",
              "             Groups                               1300  \n",
              "             Offline TA/TO                        3383  \n",
              "             Online TA                           33827  \n",
              "Resort Hotel Complementary                         155  \n",
              "             Corporate                             323  \n",
              "             Direct                               3688  \n",
              "             Groups                                425  \n",
              "             Offline TA/TO                        3102  \n",
              "             Online TA                           16898  "
            ],
            "text/html": [
              "\n",
              "  <div id=\"df-f09de1f0-8a60-4da0-9621-6c34885f3b8b\">\n",
              "    <div class=\"colab-df-container\">\n",
              "      <div>\n",
              "<style scoped>\n",
              "    .dataframe tbody tr th:only-of-type {\n",
              "        vertical-align: middle;\n",
              "    }\n",
              "\n",
              "    .dataframe tbody tr th {\n",
              "        vertical-align: top;\n",
              "    }\n",
              "\n",
              "    .dataframe thead th {\n",
              "        text-align: right;\n",
              "    }\n",
              "</style>\n",
              "<table border=\"1\" class=\"dataframe\">\n",
              "  <thead>\n",
              "    <tr style=\"text-align: right;\">\n",
              "      <th></th>\n",
              "      <th></th>\n",
              "      <th>is_canceled</th>\n",
              "      <th>lead_time</th>\n",
              "      <th>arrival_date_year</th>\n",
              "      <th>arrival_date_week_number</th>\n",
              "      <th>arrival_date_day_of_month</th>\n",
              "      <th>stays_in_weekend_nights</th>\n",
              "      <th>stays_in_week_nights</th>\n",
              "      <th>adults</th>\n",
              "      <th>children</th>\n",
              "      <th>babies</th>\n",
              "      <th>is_repeated_guest</th>\n",
              "      <th>previous_cancellations</th>\n",
              "      <th>previous_bookings_not_canceled</th>\n",
              "      <th>booking_changes</th>\n",
              "      <th>days_in_waiting_list</th>\n",
              "      <th>adr</th>\n",
              "      <th>required_car_parking_spaces</th>\n",
              "      <th>total_of_special_requests</th>\n",
              "    </tr>\n",
              "    <tr>\n",
              "      <th>hotel</th>\n",
              "      <th>market_segment</th>\n",
              "      <th></th>\n",
              "      <th></th>\n",
              "      <th></th>\n",
              "      <th></th>\n",
              "      <th></th>\n",
              "      <th></th>\n",
              "      <th></th>\n",
              "      <th></th>\n",
              "      <th></th>\n",
              "      <th></th>\n",
              "      <th></th>\n",
              "      <th></th>\n",
              "      <th></th>\n",
              "      <th></th>\n",
              "      <th></th>\n",
              "      <th></th>\n",
              "      <th></th>\n",
              "      <th></th>\n",
              "    </tr>\n",
              "  </thead>\n",
              "  <tbody>\n",
              "    <tr>\n",
              "      <th rowspan=\"7\" valign=\"top\">City Hotel</th>\n",
              "      <th>Aviation</th>\n",
              "      <td>52</td>\n",
              "      <td>1053</td>\n",
              "      <td>477902</td>\n",
              "      <td>5946</td>\n",
              "      <td>3723</td>\n",
              "      <td>259</td>\n",
              "      <td>596</td>\n",
              "      <td>238</td>\n",
              "      <td>0.0</td>\n",
              "      <td>0</td>\n",
              "      <td>64</td>\n",
              "      <td>13</td>\n",
              "      <td>102</td>\n",
              "      <td>62</td>\n",
              "      <td>0</td>\n",
              "      <td>23733.68</td>\n",
              "      <td>6</td>\n",
              "      <td>27</td>\n",
              "    </tr>\n",
              "    <tr>\n",
              "      <th>Complementary</th>\n",
              "      <td>57</td>\n",
              "      <td>5849</td>\n",
              "      <td>1078573</td>\n",
              "      <td>15098</td>\n",
              "      <td>7936</td>\n",
              "      <td>164</td>\n",
              "      <td>628</td>\n",
              "      <td>785</td>\n",
              "      <td>48.0</td>\n",
              "      <td>18</td>\n",
              "      <td>212</td>\n",
              "      <td>160</td>\n",
              "      <td>1491</td>\n",
              "      <td>149</td>\n",
              "      <td>35</td>\n",
              "      <td>1409.43</td>\n",
              "      <td>41</td>\n",
              "      <td>538</td>\n",
              "    </tr>\n",
              "    <tr>\n",
              "      <th>Corporate</th>\n",
              "      <td>640</td>\n",
              "      <td>76383</td>\n",
              "      <td>6017978</td>\n",
              "      <td>77587</td>\n",
              "      <td>47342</td>\n",
              "      <td>1188</td>\n",
              "      <td>4481</td>\n",
              "      <td>3661</td>\n",
              "      <td>17.0</td>\n",
              "      <td>11</td>\n",
              "      <td>913</td>\n",
              "      <td>698</td>\n",
              "      <td>7614</td>\n",
              "      <td>849</td>\n",
              "      <td>628</td>\n",
              "      <td>248196.26</td>\n",
              "      <td>280</td>\n",
              "      <td>853</td>\n",
              "    </tr>\n",
              "    <tr>\n",
              "      <th>Direct</th>\n",
              "      <td>1055</td>\n",
              "      <td>312918</td>\n",
              "      <td>12280894</td>\n",
              "      <td>162710</td>\n",
              "      <td>96133</td>\n",
              "      <td>4671</td>\n",
              "      <td>12859</td>\n",
              "      <td>11151</td>\n",
              "      <td>1144.0</td>\n",
              "      <td>115</td>\n",
              "      <td>191</td>\n",
              "      <td>135</td>\n",
              "      <td>291</td>\n",
              "      <td>2220</td>\n",
              "      <td>71</td>\n",
              "      <td>727872.70</td>\n",
              "      <td>415</td>\n",
              "      <td>3453</td>\n",
              "    </tr>\n",
              "    <tr>\n",
              "      <th>Groups</th>\n",
              "      <td>9623</td>\n",
              "      <td>2728263</td>\n",
              "      <td>28170975</td>\n",
              "      <td>387312</td>\n",
              "      <td>228632</td>\n",
              "      <td>9406</td>\n",
              "      <td>26174</td>\n",
              "      <td>25083</td>\n",
              "      <td>23.0</td>\n",
              "      <td>3</td>\n",
              "      <td>201</td>\n",
              "      <td>3091</td>\n",
              "      <td>251</td>\n",
              "      <td>1744</td>\n",
              "      <td>108113</td>\n",
              "      <td>1186713.34</td>\n",
              "      <td>6</td>\n",
              "      <td>1300</td>\n",
              "    </tr>\n",
              "    <tr>\n",
              "      <th>Offline TA/TO</th>\n",
              "      <td>7159</td>\n",
              "      <td>2366950</td>\n",
              "      <td>33733484</td>\n",
              "      <td>490855</td>\n",
              "      <td>260534</td>\n",
              "      <td>12215</td>\n",
              "      <td>36395</td>\n",
              "      <td>29730</td>\n",
              "      <td>300.0</td>\n",
              "      <td>59</td>\n",
              "      <td>219</td>\n",
              "      <td>1532</td>\n",
              "      <td>311</td>\n",
              "      <td>2478</td>\n",
              "      <td>147004</td>\n",
              "      <td>1556856.75</td>\n",
              "      <td>48</td>\n",
              "      <td>3383</td>\n",
              "    </tr>\n",
              "    <tr>\n",
              "      <th>Online TA</th>\n",
              "      <td>14490</td>\n",
              "      <td>3211200</td>\n",
              "      <td>78126867</td>\n",
              "      <td>1015410</td>\n",
              "      <td>607706</td>\n",
              "      <td>35169</td>\n",
              "      <td>91975</td>\n",
              "      <td>76150</td>\n",
              "      <td>5716.0</td>\n",
              "      <td>186</td>\n",
              "      <td>232</td>\n",
              "      <td>697</td>\n",
              "      <td>441</td>\n",
              "      <td>7362</td>\n",
              "      <td>129</td>\n",
              "      <td>4607817.58</td>\n",
              "      <td>1137</td>\n",
              "      <td>33827</td>\n",
              "    </tr>\n",
              "    <tr>\n",
              "      <th rowspan=\"6\" valign=\"top\">Resort Hotel</th>\n",
              "      <th>Complementary</th>\n",
              "      <td>33</td>\n",
              "      <td>4023</td>\n",
              "      <td>401215</td>\n",
              "      <td>5827</td>\n",
              "      <td>3436</td>\n",
              "      <td>96</td>\n",
              "      <td>331</td>\n",
              "      <td>317</td>\n",
              "      <td>13.0</td>\n",
              "      <td>4</td>\n",
              "      <td>18</td>\n",
              "      <td>2</td>\n",
              "      <td>33</td>\n",
              "      <td>97</td>\n",
              "      <td>4</td>\n",
              "      <td>735.14</td>\n",
              "      <td>43</td>\n",
              "      <td>155</td>\n",
              "    </tr>\n",
              "    <tr>\n",
              "      <th>Corporate</th>\n",
              "      <td>338</td>\n",
              "      <td>39774</td>\n",
              "      <td>4286206</td>\n",
              "      <td>55566</td>\n",
              "      <td>32986</td>\n",
              "      <td>1096</td>\n",
              "      <td>4031</td>\n",
              "      <td>2691</td>\n",
              "      <td>36.0</td>\n",
              "      <td>5</td>\n",
              "      <td>560</td>\n",
              "      <td>173</td>\n",
              "      <td>2804</td>\n",
              "      <td>748</td>\n",
              "      <td>191</td>\n",
              "      <td>111023.89</td>\n",
              "      <td>277</td>\n",
              "      <td>323</td>\n",
              "    </tr>\n",
              "    <tr>\n",
              "      <th>Direct</th>\n",
              "      <td>865</td>\n",
              "      <td>311476</td>\n",
              "      <td>12816601</td>\n",
              "      <td>167150</td>\n",
              "      <td>101919</td>\n",
              "      <td>5965</td>\n",
              "      <td>16338</td>\n",
              "      <td>12236</td>\n",
              "      <td>1097.0</td>\n",
              "      <td>170</td>\n",
              "      <td>603</td>\n",
              "      <td>87</td>\n",
              "      <td>1250</td>\n",
              "      <td>2714</td>\n",
              "      <td>440</td>\n",
              "      <td>715382.98</td>\n",
              "      <td>1659</td>\n",
              "      <td>3688</td>\n",
              "    </tr>\n",
              "    <tr>\n",
              "      <th>Groups</th>\n",
              "      <td>2474</td>\n",
              "      <td>975743</td>\n",
              "      <td>11757675</td>\n",
              "      <td>152475</td>\n",
              "      <td>88823</td>\n",
              "      <td>6218</td>\n",
              "      <td>17474</td>\n",
              "      <td>10509</td>\n",
              "      <td>35.0</td>\n",
              "      <td>10</td>\n",
              "      <td>69</td>\n",
              "      <td>2337</td>\n",
              "      <td>65</td>\n",
              "      <td>2449</td>\n",
              "      <td>18740</td>\n",
              "      <td>387201.98</td>\n",
              "      <td>276</td>\n",
              "      <td>425</td>\n",
              "    </tr>\n",
              "    <tr>\n",
              "      <th>Offline TA/TO</th>\n",
              "      <td>1119</td>\n",
              "      <td>894987</td>\n",
              "      <td>14972690</td>\n",
              "      <td>209837</td>\n",
              "      <td>116611</td>\n",
              "      <td>13245</td>\n",
              "      <td>32460</td>\n",
              "      <td>14231</td>\n",
              "      <td>352.0</td>\n",
              "      <td>119</td>\n",
              "      <td>160</td>\n",
              "      <td>1226</td>\n",
              "      <td>244</td>\n",
              "      <td>1427</td>\n",
              "      <td>1767</td>\n",
              "      <td>555523.95</td>\n",
              "      <td>502</td>\n",
              "      <td>3102</td>\n",
              "    </tr>\n",
              "    <tr>\n",
              "      <th>Online TA</th>\n",
              "      <td>6248</td>\n",
              "      <td>1473802</td>\n",
              "      <td>35596053</td>\n",
              "      <td>484276</td>\n",
              "      <td>282912</td>\n",
              "      <td>20752</td>\n",
              "      <td>53758</td>\n",
              "      <td>34177</td>\n",
              "      <td>3609.0</td>\n",
              "      <td>245</td>\n",
              "      <td>364</td>\n",
              "      <td>210</td>\n",
              "      <td>754</td>\n",
              "      <td>3999</td>\n",
              "      <td>0</td>\n",
              "      <td>2005513.85</td>\n",
              "      <td>2668</td>\n",
              "      <td>16898</td>\n",
              "    </tr>\n",
              "  </tbody>\n",
              "</table>\n",
              "</div>\n",
              "      <button class=\"colab-df-convert\" onclick=\"convertToInteractive('df-f09de1f0-8a60-4da0-9621-6c34885f3b8b')\"\n",
              "              title=\"Convert this dataframe to an interactive table.\"\n",
              "              style=\"display:none;\">\n",
              "        \n",
              "  <svg xmlns=\"http://www.w3.org/2000/svg\" height=\"24px\"viewBox=\"0 0 24 24\"\n",
              "       width=\"24px\">\n",
              "    <path d=\"M0 0h24v24H0V0z\" fill=\"none\"/>\n",
              "    <path d=\"M18.56 5.44l.94 2.06.94-2.06 2.06-.94-2.06-.94-.94-2.06-.94 2.06-2.06.94zm-11 1L8.5 8.5l.94-2.06 2.06-.94-2.06-.94L8.5 2.5l-.94 2.06-2.06.94zm10 10l.94 2.06.94-2.06 2.06-.94-2.06-.94-.94-2.06-.94 2.06-2.06.94z\"/><path d=\"M17.41 7.96l-1.37-1.37c-.4-.4-.92-.59-1.43-.59-.52 0-1.04.2-1.43.59L10.3 9.45l-7.72 7.72c-.78.78-.78 2.05 0 2.83L4 21.41c.39.39.9.59 1.41.59.51 0 1.02-.2 1.41-.59l7.78-7.78 2.81-2.81c.8-.78.8-2.07 0-2.86zM5.41 20L4 18.59l7.72-7.72 1.47 1.35L5.41 20z\"/>\n",
              "  </svg>\n",
              "      </button>\n",
              "      \n",
              "  <style>\n",
              "    .colab-df-container {\n",
              "      display:flex;\n",
              "      flex-wrap:wrap;\n",
              "      gap: 12px;\n",
              "    }\n",
              "\n",
              "    .colab-df-convert {\n",
              "      background-color: #E8F0FE;\n",
              "      border: none;\n",
              "      border-radius: 50%;\n",
              "      cursor: pointer;\n",
              "      display: none;\n",
              "      fill: #1967D2;\n",
              "      height: 32px;\n",
              "      padding: 0 0 0 0;\n",
              "      width: 32px;\n",
              "    }\n",
              "\n",
              "    .colab-df-convert:hover {\n",
              "      background-color: #E2EBFA;\n",
              "      box-shadow: 0px 1px 2px rgba(60, 64, 67, 0.3), 0px 1px 3px 1px rgba(60, 64, 67, 0.15);\n",
              "      fill: #174EA6;\n",
              "    }\n",
              "\n",
              "    [theme=dark] .colab-df-convert {\n",
              "      background-color: #3B4455;\n",
              "      fill: #D2E3FC;\n",
              "    }\n",
              "\n",
              "    [theme=dark] .colab-df-convert:hover {\n",
              "      background-color: #434B5C;\n",
              "      box-shadow: 0px 1px 3px 1px rgba(0, 0, 0, 0.15);\n",
              "      filter: drop-shadow(0px 1px 2px rgba(0, 0, 0, 0.3));\n",
              "      fill: #FFFFFF;\n",
              "    }\n",
              "  </style>\n",
              "\n",
              "      <script>\n",
              "        const buttonEl =\n",
              "          document.querySelector('#df-f09de1f0-8a60-4da0-9621-6c34885f3b8b button.colab-df-convert');\n",
              "        buttonEl.style.display =\n",
              "          google.colab.kernel.accessAllowed ? 'block' : 'none';\n",
              "\n",
              "        async function convertToInteractive(key) {\n",
              "          const element = document.querySelector('#df-f09de1f0-8a60-4da0-9621-6c34885f3b8b');\n",
              "          const dataTable =\n",
              "            await google.colab.kernel.invokeFunction('convertToInteractive',\n",
              "                                                     [key], {});\n",
              "          if (!dataTable) return;\n",
              "\n",
              "          const docLinkHtml = 'Like what you see? Visit the ' +\n",
              "            '<a target=\"_blank\" href=https://colab.research.google.com/notebooks/data_table.ipynb>data table notebook</a>'\n",
              "            + ' to learn more about interactive tables.';\n",
              "          element.innerHTML = '';\n",
              "          dataTable['output_type'] = 'display_data';\n",
              "          await google.colab.output.renderOutput(dataTable, element);\n",
              "          const docLink = document.createElement('div');\n",
              "          docLink.innerHTML = docLinkHtml;\n",
              "          element.appendChild(docLink);\n",
              "        }\n",
              "      </script>\n",
              "    </div>\n",
              "  </div>\n",
              "  "
            ]
          },
          "metadata": {},
          "execution_count": 224
        }
      ]
    },
    {
      "cell_type": "code",
      "source": [
        "# To plot hotelwise data of adults belonging to specific market_segment.\n",
        "m2 = df_nonull.groupby(['market_segment', 'hotel']).sum()['adults']\n",
        "m2.unstack().plot()"
      ],
      "metadata": {
        "colab": {
          "base_uri": "https://localhost:8080/",
          "height": 623
        },
        "id": "i0Iu6f-7n48V",
        "outputId": "1d66ce12-e38e-42b8-884c-cf943655ef32"
      },
      "execution_count": null,
      "outputs": [
        {
          "output_type": "execute_result",
          "data": {
            "text/plain": [
              "<matplotlib.axes._subplots.AxesSubplot at 0x7f14bbb32850>"
            ]
          },
          "metadata": {},
          "execution_count": 225
        },
        {
          "output_type": "display_data",
          "data": {
            "text/plain": [
              "<Figure size 720x720 with 1 Axes>"
            ],
            "image/png": "[encoded data removed]"
          },
          "metadata": {
            "needs_background": "light"
          }
        }
      ]
    },
    {
      "cell_type": "code",
      "source": [
        "# Defining new df for distribution channel\n",
        "distribution_channel1 = df_nonull.groupby(['hotel', 'distribution_channel']).sum()['adults']\n",
        "\n",
        "# Extracting pandas series out of this df to use it in plot\n",
        "d_c = distribution_channel1[:4]\n",
        "d_r = distribution_channel1[4:]"
      ],
      "metadata": {
        "id": "S7AmKWsIvkxi"
      },
      "execution_count": null,
      "outputs": []
    },
    {
      "cell_type": "code",
      "source": [
        "# Plotting a pie chart of this data\n",
        "label1 = ['Corporate', 'Direct', 'GDS', 'TA/TO'] # Need to search for an option to add labels automatically.\n",
        "label2 = ['Corporate', 'Direct', 'TA/TO', 'Undefined']\n",
        "\n",
        "explode = (0, 0.1, 0.1, 0.1)\n",
        "plt.suptitle('Contribution of Distribution Channel') # To add the main title to the graph\n",
        "# Need to remove this extra gap\n",
        "\n",
        "# Subplot1: Pie chart for City Hotel\n",
        "plt.subplot(1, 2, 1)\n",
        "plt.pie(d_c, labels=label1, explode = explode)\n",
        "plt.title('For City Hotel')\n",
        "\n",
        "# Subplot2: Pie chart for Resort Hotel\n",
        "plt.subplot(1, 2, 2)\n",
        "plt.pie(d_r, labels=label2, explode = explode)\n",
        "plt.title('For Resort Hotel')"
      ],
      "metadata": {
        "colab": {
          "base_uri": "https://localhost:8080/",
          "height": 518
        },
        "id": "CFFmuFmBql_G",
        "outputId": "70635c96-afea-4f7a-a3ce-dc2182043f1b"
      },
      "execution_count": null,
      "outputs": [
        {
          "output_type": "execute_result",
          "data": {
            "text/plain": [
              "Text(0.5, 1.0, 'For Resort Hotel')"
            ]
          },
          "metadata": {},
          "execution_count": 227
        },
        {
          "output_type": "display_data",
          "data": {
            "text/plain": [
              "<Figure size 720x720 with 2 Axes>"
            ],
            "image/png": "[encoded data removed]"
          },
          "metadata": {}
        }
      ]
    },
    {
      "cell_type": "markdown",
      "source": [
        "For both the hotels, the distribution channel 'TA/TO' contributed the maximum."
      ],
      "metadata": {
        "id": "nAe73yfi9qKe"
      }
    },
    {
      "cell_type": "markdown",
      "source": [
        "**Now, looking for Repeated Customers**"
      ],
      "metadata": {
        "id": "mk8z_EUyACxD"
      }
    },
    {
      "cell_type": "code",
      "source": [
        "# Finding repeated customers\n",
        "repeated_customer = df_nonull.copy()\n",
        "repeated_customer['is_repeated_guest'] = repeated_customer['is_repeated_guest'].replace([0,1], ['No', 'Yes'])"
      ],
      "metadata": {
        "id": "Ba9MHq7HACH7"
      },
      "execution_count": null,
      "outputs": []
    },
    {
      "cell_type": "code",
      "source": [
        "# Counting the total repeated customers\n",
        "repeated_customer['is_repeated_guest'].value_counts()"
      ],
      "metadata": {
        "colab": {
          "base_uri": "https://localhost:8080/"
        },
        "id": "4reiHEZSCIsW",
        "outputId": "1d6805b7-6659-4899-d6d9-ab42c91fefde"
      },
      "execution_count": null,
      "outputs": [
        {
          "output_type": "execute_result",
          "data": {
            "text/plain": [
              "No     115092\n",
              "Yes      3806\n",
              "Name: is_repeated_guest, dtype: int64"
            ]
          },
          "metadata": {},
          "execution_count": 229
        }
      ]
    },
    {
      "cell_type": "code",
      "source": [
        "hotelwise_repeated_customers = repeated_customer.groupby(['is_repeated_guest', 'hotel']).count()['adults']\n",
        "print(hotelwise_repeated_customers)"
      ],
      "metadata": {
        "colab": {
          "base_uri": "https://localhost:8080/"
        },
        "id": "iHO6UCYzAP6P",
        "outputId": "0ad95639-26d8-4d71-f433-4c8727020f6d"
      },
      "execution_count": null,
      "outputs": [
        {
          "output_type": "stream",
          "name": "stdout",
          "text": [
            "is_repeated_guest  hotel       \n",
            "No                 City Hotel      77270\n",
            "                   Resort Hotel    37822\n",
            "Yes                City Hotel       2032\n",
            "                   Resort Hotel     1774\n",
            "Name: adults, dtype: int64\n"
          ]
        }
      ]
    },
    {
      "cell_type": "code",
      "source": [
        "# plot the repeated customers count plot (combied for hotels)\n",
        "sns.countplot(repeated_customer['is_repeated_guest'])"
      ],
      "metadata": {
        "colab": {
          "base_uri": "https://localhost:8080/",
          "height": 678
        },
        "id": "8nkiGcrv9nau",
        "outputId": "be3956ce-999a-40a3-df8f-d28a6c2ed3aa"
      },
      "execution_count": null,
      "outputs": [
        {
          "output_type": "stream",
          "name": "stderr",
          "text": [
            "/usr/local/lib/python3.7/dist-packages/seaborn/_decorators.py:43: FutureWarning: Pass the following variable as a keyword arg: x. From version 0.12, the only valid positional argument will be `data`, and passing other arguments without an explicit keyword will result in an error or misinterpretation.\n",
            "  FutureWarning\n"
          ]
        },
        {
          "output_type": "execute_result",
          "data": {
            "text/plain": [
              "<matplotlib.axes._subplots.AxesSubplot at 0x7f14bb96a6d0>"
            ]
          },
          "metadata": {},
          "execution_count": 231
        },
        {
          "output_type": "display_data",
          "data": {
            "text/plain": [
              "<Figure size 720x720 with 1 Axes>"
            ],
            "image/png": "[encoded data removed]"
          },
          "metadata": {
            "needs_background": "light"
          }
        }
      ]
    },
    {
      "cell_type": "code",
      "source": [
        "# Plot for Meal types for both the hotels combined\n",
        "df_nonull['meal'].value_counts().plot(kind = 'bar')\n",
        "plt.legend(loc='upper right')"
      ],
      "metadata": {
        "colab": {
          "base_uri": "https://localhost:8080/",
          "height": 650
        },
        "id": "qVNYWt3mFUr_",
        "outputId": "a9572ca6-2b29-4a3f-90af-23a480bf25cc"
      },
      "execution_count": null,
      "outputs": [
        {
          "output_type": "execute_result",
          "data": {
            "text/plain": [
              "<matplotlib.legend.Legend at 0x7f14bb92a5d0>"
            ]
          },
          "metadata": {},
          "execution_count": 232
        },
        {
          "output_type": "display_data",
          "data": {
            "text/plain": [
              "<Figure size 720x720 with 1 Axes>"
            ],
            "image/png": "[encoded data removed]"
          },
          "metadata": {
            "needs_background": "light"
          }
        }
      ]
    },
    {
      "cell_type": "code",
      "source": [
        "df_nonull.columns"
      ],
      "metadata": {
        "colab": {
          "base_uri": "https://localhost:8080/"
        },
        "id": "UesM1WgEkvaG",
        "outputId": "7ca33194-89f4-4117-dfe8-ec847d192d39"
      },
      "execution_count": null,
      "outputs": [
        {
          "output_type": "execute_result",
          "data": {
            "text/plain": [
              "Index(['hotel', 'is_canceled', 'lead_time', 'arrival_date_year',\n",
              "       'arrival_date_month', 'arrival_date_week_number',\n",
              "       'arrival_date_day_of_month', 'stays_in_weekend_nights',\n",
              "       'stays_in_week_nights', 'adults', 'children', 'babies', 'meal',\n",
              "       'country', 'market_segment', 'distribution_channel',\n",
              "       'is_repeated_guest', 'previous_cancellations',\n",
              "       'previous_bookings_not_canceled', 'reserved_room_type',\n",
              "       'assigned_room_type', 'booking_changes', 'deposit_type',\n",
              "       'days_in_waiting_list', 'customer_type', 'adr',\n",
              "       'required_car_parking_spaces', 'total_of_special_requests',\n",
              "       'reservation_status', 'reservation_status_date'],\n",
              "      dtype='object')"
            ]
          },
          "metadata": {},
          "execution_count": 233
        }
      ]
    },
    {
      "cell_type": "code",
      "source": [
        ""
      ],
      "metadata": {
        "id": "F9mUUaeatRxx"
      },
      "execution_count": null,
      "outputs": []
    },
    {
      "cell_type": "markdown",
      "source": [
        ""
      ],
      "metadata": {
        "id": "06zLtToE_SX_"
      }
    }
  ]
}